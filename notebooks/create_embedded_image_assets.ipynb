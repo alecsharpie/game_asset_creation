{
 "cells": [
  {
   "cell_type": "code",
   "execution_count": 1,
   "id": "b8725c37",
   "metadata": {},
   "outputs": [],
   "source": [
    "import pandas as pd\n",
    "import numpy as np"
   ]
  },
  {
   "cell_type": "code",
   "execution_count": 19,
   "id": "eec769eb",
   "metadata": {},
   "outputs": [],
   "source": [
    "from PIL import Image\n",
    "import numpy as np\n",
    "import matplotlib.pyplot as plt\n",
    "from sklearn.cluster import MiniBatchKMeans"
   ]
  },
  {
   "cell_type": "code",
   "execution_count": 20,
   "id": "81b74ed5",
   "metadata": {},
   "outputs": [],
   "source": [
    "def reduce_img_colours(img_path, compression = 1, num_colours = 5):\n",
    "    \n",
    "    img = Image.open(img_path)\n",
    "    \n",
    "    new_size = (np.array(img.size) * compression).astype(int)\n",
    "    \n",
    "    img_array = np.array(img.resize(new_size))\n",
    "    \n",
    "    pixels = img_array.reshape((-1, 3))\n",
    "    \n",
    "    kmeans = MiniBatchKMeans(num_colours).fit(pixels)\n",
    "    \n",
    "    new_pixels = kmeans.cluster_centers_[kmeans.labels_]\n",
    "    \n",
    "    new_img = new_pixels.reshape((new_size[1], new_size[0], 3))\n",
    "    \n",
    "    print(f'# Old colours: {len(np.unique(pixels, axis = 0))}')\n",
    "    print(f'# New colours: {num_colours}')\n",
    "    \n",
    "    return new_img"
   ]
  },
  {
   "cell_type": "code",
   "execution_count": 26,
   "id": "73b8b33e",
   "metadata": {},
   "outputs": [],
   "source": [
    "# https://github.com/google-research-datasets/conceptual-captions/blob/master/LICENSE\n",
    "# https://ai.google.com/research/ConceptualCaptions/download\n",
    "data = pd.read_csv('../raw_data/Validation_GCC-1.1.0-Validation.tsv', sep = '\\t', header = None)"
   ]
  },
  {
   "cell_type": "code",
   "execution_count": 27,
   "id": "b5f16d78",
   "metadata": {},
   "outputs": [],
   "source": [
    "data.columns = ['caption', 'url']"
   ]
  },
  {
   "cell_type": "code",
   "execution_count": 145,
   "id": "a3940d70",
   "metadata": {},
   "outputs": [],
   "source": [
    "import requests\n",
    "from PIL import Image\n",
    "import io\n",
    "import torch\n",
    "import clip\n",
    "\n",
    "def get_pil_image(url):\n",
    "    \n",
    "    try:\n",
    "        response = requests.get(url)\n",
    "        if response.status_code == 200:\n",
    "            return Image.open(io.BytesIO(response.content))\n",
    "        \n",
    "    except requests.exceptions.RequestException:\n",
    "        return None\n",
    "\n",
    "\n",
    "def square_image(pil_img):\n",
    "    \n",
    "    short_side = min(pil_img.size)\n",
    "    \n",
    "    img_width, img_height = pil_img.size\n",
    "    return pil_img.crop(((img_width - short_side) // 2,\n",
    "                         (img_height - short_side) // 2,\n",
    "                         (img_width + short_side) // 2,\n",
    "                         (img_height + short_side) // 2))\n",
    "\n",
    "def simplify_image(pil_img, num_colors = 8):\n",
    "\n",
    "    img = pil_img.quantize(colors=num_colors, method=2)\n",
    "    \n",
    "    sq_img = square_image(img).resize((256, 256), Image.LANCZOS)\n",
    "    \n",
    "    return sq_img\n",
    "    \n",
    "def save_img(pil_img, caption, destination_folder):\n",
    "    \n",
    "    file_name = f\"{destination_folder}/{caption.replace('.', '')}.png\"\n",
    "    \n",
    "    print('saving to ', file_name)\n",
    "    \n",
    "    pil_img.save(file_name)\n",
    "\n",
    "\n",
    "model, preprocess = clip.load(\"ViT-B/32\", device=device)\n",
    "\n",
    "\n",
    "def clip_encode_image(pil_img):\n",
    "    \n",
    "    device = \"cuda\" if torch.cuda.is_available() else \"cpu\"\n",
    "    \n",
    "    image = preprocess(pil_img).unsqueeze(0).to(device)\n",
    "\n",
    "    with torch.no_grad():\n",
    "        image_features = model.encode_image(image)\n",
    "\n",
    "    return image_features\n",
    "\n"
   ]
  },
  {
   "cell_type": "code",
   "execution_count": 146,
   "id": "da6f975f",
   "metadata": {},
   "outputs": [
    {
     "name": "stdout",
     "output_type": "stream",
     "text": [
      "http://i.dailymail.co.uk/i/pix/2014/11/05/1415187324676_wps_31_Home_is_a_little_Deer_Ivy.jpg\n",
      "saving to  ../raw_data/images/the - bedroom stone cottage can sleep people.png\n",
      "http://www.waste360.com/sites/waste360.com/files/styles/article_featured_standard/public/Trista%2002%20007_0.jpg?itok=F1eJZsX3\n",
      "https://media.gettyimages.com/photos/young-woman-seated-on-the-beach-picture-id97545987?s=612x612\n",
      "https://worldjourneysdiscover.files.wordpress.com/2014/07/kyoto-07.jpg?w=860&h=645\n",
      "saving to  ../raw_data/images/party in the park under cherry blossoms.png\n",
      "http://piquemagazine.uk/wp-content/uploads/2017/10/LPO-24-Feb-Albrecht-Menzel-%C2%AE-Anne-Hornemann-300dpi.jpg\n"
     ]
    }
   ],
   "source": [
    "features_list = []\n",
    "image_path_list = []\n",
    "\n",
    "for i, row in data[5:10].iterrows():\n",
    "    \n",
    "    url, caption = row['url'], row['caption']\n",
    "    \n",
    "    print(url)\n",
    "\n",
    "    img = get_pil_image(url)\n",
    "    \n",
    "    if img:\n",
    "\n",
    "        features_list.append(clip_encode_image(img)[0])\n",
    "\n",
    "        simple_img = simplify_image(img, num_colors = 256)\n",
    "\n",
    "        save_img(simple_img, caption, destination_folder = '../raw_data/images')\n",
    "        \n",
    "        image_path_list.append(f\"{caption.replace('.', '')}.png\")\n",
    "\n",
    "#image = get_simplified_image(url, caption, destination_folder = '../raw_data/images', num_colors = 256)"
   ]
  },
  {
   "cell_type": "code",
   "execution_count": 149,
   "id": "998ebddb",
   "metadata": {},
   "outputs": [],
   "source": [
    "image_embeddings = np.stack(features_list)"
   ]
  },
  {
   "cell_type": "code",
   "execution_count": 150,
   "id": "88fb0e77",
   "metadata": {},
   "outputs": [
    {
     "data": {
      "text/plain": [
       "array([[-0.23239458,  0.06971791,  0.09149291, ...,  0.31141508,\n",
       "         0.05654181, -0.37589613],\n",
       "       [ 0.03647149,  0.16184269, -0.20005846, ...,  0.04125442,\n",
       "        -0.22502679,  0.37220034]], dtype=float32)"
      ]
     },
     "execution_count": 150,
     "metadata": {},
     "output_type": "execute_result"
    }
   ],
   "source": [
    "image_embeddings"
   ]
  },
  {
   "cell_type": "code",
   "execution_count": 151,
   "id": "532482dd",
   "metadata": {},
   "outputs": [
    {
     "name": "stdout",
     "output_type": "stream",
     "text": [
      "author : a life in photography -- in pictures.png\r\n",
      "party in the park under cherry blossoms.png\r\n",
      "the - bedroom stone cottage can sleep people.png\r\n",
      "tv police procedural is filming on the street this week .png\r\n",
      "tv police procedural is filming on the street this week _256bit.png\r\n",
      "tv police procedural is filming on the street this week _2bit.png\r\n",
      "tv police procedural is filming on the street this week _8bit.png\r\n"
     ]
    }
   ],
   "source": [
    "!ls '../raw_data/images'"
   ]
  }
 ],
 "metadata": {
  "kernelspec": {
   "display_name": "Python 3 (ipykernel)",
   "language": "python",
   "name": "python3"
  },
  "language_info": {
   "codemirror_mode": {
    "name": "ipython",
    "version": 3
   },
   "file_extension": ".py",
   "mimetype": "text/x-python",
   "name": "python",
   "nbconvert_exporter": "python",
   "pygments_lexer": "ipython3",
   "version": "3.8.6"
  }
 },
 "nbformat": 4,
 "nbformat_minor": 5
}
