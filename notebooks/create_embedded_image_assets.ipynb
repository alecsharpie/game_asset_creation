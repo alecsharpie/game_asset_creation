{
 "cells": [
  {
   "cell_type": "code",
   "execution_count": 1,
   "id": "ebc233e9",
   "metadata": {},
   "outputs": [],
   "source": [
    "import pandas as pd\n",
    "import numpy as np"
   ]
  },
  {
   "cell_type": "code",
   "execution_count": 19,
   "id": "93a8195b",
   "metadata": {},
   "outputs": [],
   "source": [
    "from PIL import Image\n",
    "import numpy as np\n",
    "import matplotlib.pyplot as plt\n",
    "from sklearn.cluster import MiniBatchKMeans"
   ]
  },
  {
   "cell_type": "code",
   "execution_count": 20,
   "id": "ce9445e0",
   "metadata": {},
   "outputs": [],
   "source": [
    "def reduce_img_colours(img_path, compression = 1, num_colours = 5):\n",
    "    \n",
    "    img = Image.open(img_path)\n",
    "    \n",
    "    new_size = (np.array(img.size) * compression).astype(int)\n",
    "    \n",
    "    img_array = np.array(img.resize(new_size))\n",
    "    \n",
    "    pixels = img_array.reshape((-1, 3))\n",
    "    \n",
    "    kmeans = MiniBatchKMeans(num_colours).fit(pixels)\n",
    "    \n",
    "    new_pixels = kmeans.cluster_centers_[kmeans.labels_]\n",
    "    \n",
    "    new_img = new_pixels.reshape((new_size[1], new_size[0], 3))\n",
    "    \n",
    "    print(f'# Old colours: {len(np.unique(pixels, axis = 0))}')\n",
    "    print(f'# New colours: {num_colours}')\n",
    "    \n",
    "    return new_img"
   ]
  },
  {
   "cell_type": "code",
   "execution_count": 26,
   "id": "50c07b22",
   "metadata": {},
   "outputs": [],
   "source": [
    "# https://github.com/google-research-datasets/conceptual-captions/blob/master/LICENSE\n",
    "# https://ai.google.com/research/ConceptualCaptions/download\n",
    "data = pd.read_csv('../raw_data/Validation_GCC-1.1.0-Validation.tsv', sep = '\\t', header = None)"
   ]
  },
  {
   "cell_type": "code",
   "execution_count": 27,
   "id": "b81e2685",
   "metadata": {},
   "outputs": [],
   "source": [
    "data.columns = ['caption', 'url']"
   ]
  },
  {
   "cell_type": "code",
   "execution_count": 174,
   "id": "33e891bf",
   "metadata": {},
   "outputs": [],
   "source": [
    "import requests\n",
    "from PIL import Image\n",
    "import PIL\n",
    "import io\n",
    "import torch\n",
    "import clip\n",
    "\n",
    "def get_pil_image(url):\n",
    "    \n",
    "    try:\n",
    "        response = requests.get(url)\n",
    "        if response.status_code == 200:\n",
    "                return Image.open(io.BytesIO(response.content))\n",
    "    \n",
    "    except requests.exceptions.RequestException:\n",
    "        return None\n",
    "    except PIL.UnidentifiedImageError:\n",
    "        return None\n",
    "#     except RuntimeError:\n",
    "#         return None\n",
    "\n",
    "\n",
    "def square_image(pil_img):\n",
    "    \n",
    "    short_side = min(pil_img.size)\n",
    "    \n",
    "    img_width, img_height = pil_img.size\n",
    "    return pil_img.crop(((img_width - short_side) // 2,\n",
    "                         (img_height - short_side) // 2,\n",
    "                         (img_width + short_side) // 2,\n",
    "                         (img_height + short_side) // 2))\n",
    "\n",
    "def simplify_image(pil_img, num_colors = 8):\n",
    "\n",
    "    img = pil_img.quantize(colors=num_colors, method=2)\n",
    "    \n",
    "    sq_img = square_image(img).resize((256, 256), Image.LANCZOS)\n",
    "    \n",
    "    return sq_img\n",
    "    \n",
    "def save_img(pil_img, caption, destination_folder):\n",
    "    \n",
    "    file_name = f\"{destination_folder}/{caption.replace('.', '')}.png\"\n",
    "    \n",
    "    #print('saving to ', file_name)\n",
    "    \n",
    "    pil_img.save(file_name)\n",
    "\n",
    "\n",
    "model, preprocess = clip.load(\"ViT-B/32\", device=device)\n",
    "\n",
    "\n",
    "def clip_encode_image(pil_img):\n",
    "    \n",
    "    device = \"cuda\" if torch.cuda.is_available() else \"cpu\"\n",
    "    \n",
    "    image = preprocess(pil_img).unsqueeze(0).to(device)\n",
    "\n",
    "    with torch.no_grad():\n",
    "        image_features = model.encode_image(image)\n",
    "\n",
    "    return image_features\n",
    "\n"
   ]
  },
  {
   "cell_type": "code",
   "execution_count": 175,
   "id": "7bb1a6d4",
   "metadata": {},
   "outputs": [
    {
     "name": "stderr",
     "output_type": "stream",
     "text": [
      "7it [00:09,  1.36s/it]"
     ]
    },
    {
     "name": "stdout",
     "output_type": "stream",
     "text": [
      "160\n"
     ]
    },
    {
     "name": "stderr",
     "output_type": "stream",
     "text": [
      "19it [01:01,  6.98s/it]"
     ]
    },
    {
     "name": "stdout",
     "output_type": "stream",
     "text": [
      "170\n"
     ]
    },
    {
     "name": "stderr",
     "output_type": "stream",
     "text": [
      "30it [01:18,  1.35s/it]"
     ]
    },
    {
     "name": "stdout",
     "output_type": "stream",
     "text": [
      "180\n"
     ]
    },
    {
     "name": "stderr",
     "output_type": "stream",
     "text": [
      "41it [01:39,  2.02s/it]"
     ]
    },
    {
     "name": "stdout",
     "output_type": "stream",
     "text": [
      "190\n"
     ]
    },
    {
     "name": "stderr",
     "output_type": "stream",
     "text": [
      "53it [07:50,  6.38s/it] "
     ]
    },
    {
     "name": "stdout",
     "output_type": "stream",
     "text": [
      "200\n"
     ]
    },
    {
     "name": "stderr",
     "output_type": "stream",
     "text": [
      "65it [08:12,  2.62s/it]"
     ]
    },
    {
     "name": "stdout",
     "output_type": "stream",
     "text": [
      "210\n"
     ]
    },
    {
     "name": "stderr",
     "output_type": "stream",
     "text": [
      "77it [08:37,  1.60s/it]"
     ]
    },
    {
     "name": "stdout",
     "output_type": "stream",
     "text": [
      "220\n"
     ]
    },
    {
     "name": "stderr",
     "output_type": "stream",
     "text": [
      "91it [10:09, 12.15s/it]"
     ]
    },
    {
     "name": "stdout",
     "output_type": "stream",
     "text": [
      "230\n"
     ]
    },
    {
     "name": "stderr",
     "output_type": "stream",
     "text": [
      "102it [10:52,  3.73s/it]"
     ]
    },
    {
     "name": "stdout",
     "output_type": "stream",
     "text": [
      "240\n"
     ]
    },
    {
     "name": "stderr",
     "output_type": "stream",
     "text": [
      "112it [11:02,  1.07s/it]"
     ]
    },
    {
     "name": "stdout",
     "output_type": "stream",
     "text": [
      "250\n"
     ]
    },
    {
     "name": "stderr",
     "output_type": "stream",
     "text": [
      "123it [12:30, 12.06s/it]"
     ]
    },
    {
     "name": "stdout",
     "output_type": "stream",
     "text": [
      "260\n"
     ]
    },
    {
     "name": "stderr",
     "output_type": "stream",
     "text": [
      "134it [12:52,  1.83s/it]"
     ]
    },
    {
     "name": "stdout",
     "output_type": "stream",
     "text": [
      "270\n"
     ]
    },
    {
     "name": "stderr",
     "output_type": "stream",
     "text": [
      "146it [13:09,  1.69s/it]"
     ]
    },
    {
     "name": "stdout",
     "output_type": "stream",
     "text": [
      "280\n"
     ]
    },
    {
     "name": "stderr",
     "output_type": "stream",
     "text": [
      "158it [13:38,  2.08s/it]"
     ]
    },
    {
     "name": "stdout",
     "output_type": "stream",
     "text": [
      "290\n"
     ]
    },
    {
     "name": "stderr",
     "output_type": "stream",
     "text": [
      "172it [15:15,  6.90s/it]"
     ]
    },
    {
     "name": "stdout",
     "output_type": "stream",
     "text": [
      "300\n"
     ]
    },
    {
     "name": "stderr",
     "output_type": "stream",
     "text": [
      "183it [15:35,  1.58s/it]"
     ]
    },
    {
     "name": "stdout",
     "output_type": "stream",
     "text": [
      "310\n"
     ]
    },
    {
     "name": "stderr",
     "output_type": "stream",
     "text": [
      "195it [15:57,  1.85s/it]"
     ]
    },
    {
     "name": "stdout",
     "output_type": "stream",
     "text": [
      "320\n"
     ]
    },
    {
     "name": "stderr",
     "output_type": "stream",
     "text": [
      "209it [16:20,  1.37s/it]"
     ]
    },
    {
     "name": "stdout",
     "output_type": "stream",
     "text": [
      "330\n",
      "330\n"
     ]
    },
    {
     "name": "stderr",
     "output_type": "stream",
     "text": [
      "\r",
      "210it [16:24,  2.16s/it]"
     ]
    },
    {
     "name": "stdout",
     "output_type": "stream",
     "text": [
      "330\n"
     ]
    },
    {
     "name": "stderr",
     "output_type": "stream",
     "text": [
      "223it [16:43,  1.72s/it]"
     ]
    },
    {
     "name": "stdout",
     "output_type": "stream",
     "text": [
      "340\n"
     ]
    },
    {
     "name": "stderr",
     "output_type": "stream",
     "text": [
      "236it [17:02,  1.40s/it]"
     ]
    },
    {
     "name": "stdout",
     "output_type": "stream",
     "text": [
      "350\n"
     ]
    },
    {
     "name": "stderr",
     "output_type": "stream",
     "text": [
      "246it [17:18,  1.18s/it]"
     ]
    },
    {
     "name": "stdout",
     "output_type": "stream",
     "text": [
      "360\n"
     ]
    },
    {
     "name": "stderr",
     "output_type": "stream",
     "text": [
      "257it [17:34,  1.80s/it]"
     ]
    },
    {
     "name": "stdout",
     "output_type": "stream",
     "text": [
      "370\n"
     ]
    },
    {
     "name": "stderr",
     "output_type": "stream",
     "text": [
      "270it [17:55,  1.69s/it]"
     ]
    },
    {
     "name": "stdout",
     "output_type": "stream",
     "text": [
      "380\n"
     ]
    },
    {
     "name": "stderr",
     "output_type": "stream",
     "text": [
      "\r",
      "271it [17:58,  2.35s/it]"
     ]
    },
    {
     "name": "stdout",
     "output_type": "stream",
     "text": [
      "380\n"
     ]
    },
    {
     "name": "stderr",
     "output_type": "stream",
     "text": [
      "\r",
      "272it [18:00,  2.12s/it]"
     ]
    },
    {
     "name": "stdout",
     "output_type": "stream",
     "text": [
      "380\n"
     ]
    },
    {
     "name": "stderr",
     "output_type": "stream",
     "text": [
      "284it [19:27,  5.08s/it]"
     ]
    },
    {
     "name": "stdout",
     "output_type": "stream",
     "text": [
      "390\n"
     ]
    },
    {
     "name": "stderr",
     "output_type": "stream",
     "text": [
      "294it [19:46,  1.35s/it]"
     ]
    },
    {
     "name": "stdout",
     "output_type": "stream",
     "text": [
      "400\n"
     ]
    },
    {
     "name": "stderr",
     "output_type": "stream",
     "text": [
      "306it [20:09,  2.43s/it]"
     ]
    },
    {
     "name": "stdout",
     "output_type": "stream",
     "text": [
      "410\n"
     ]
    },
    {
     "name": "stderr",
     "output_type": "stream",
     "text": [
      "322it [20:38,  1.71s/it]"
     ]
    },
    {
     "name": "stdout",
     "output_type": "stream",
     "text": [
      "420\n"
     ]
    },
    {
     "name": "stderr",
     "output_type": "stream",
     "text": [
      "334it [21:00,  2.23s/it]"
     ]
    },
    {
     "name": "stdout",
     "output_type": "stream",
     "text": [
      "430\n"
     ]
    },
    {
     "name": "stderr",
     "output_type": "stream",
     "text": [
      "\r",
      "335it [21:01,  1.82s/it]"
     ]
    },
    {
     "name": "stdout",
     "output_type": "stream",
     "text": [
      "430\n"
     ]
    },
    {
     "name": "stderr",
     "output_type": "stream",
     "text": [
      "\r",
      "336it [21:02,  1.53s/it]"
     ]
    },
    {
     "name": "stdout",
     "output_type": "stream",
     "text": [
      "430\n"
     ]
    },
    {
     "name": "stderr",
     "output_type": "stream",
     "text": [
      "350it [21:18,  1.52s/it]"
     ]
    },
    {
     "name": "stdout",
     "output_type": "stream",
     "text": [
      "440\n"
     ]
    },
    {
     "name": "stderr",
     "output_type": "stream",
     "text": [
      "363it [21:30,  1.23it/s]"
     ]
    },
    {
     "name": "stdout",
     "output_type": "stream",
     "text": [
      "450\n"
     ]
    },
    {
     "name": "stderr",
     "output_type": "stream",
     "text": [
      "375it [22:29,  2.30s/it]"
     ]
    },
    {
     "name": "stdout",
     "output_type": "stream",
     "text": [
      "460\n"
     ]
    },
    {
     "name": "stderr",
     "output_type": "stream",
     "text": [
      "386it [22:45,  1.97s/it]"
     ]
    },
    {
     "name": "stdout",
     "output_type": "stream",
     "text": [
      "470\n"
     ]
    },
    {
     "name": "stderr",
     "output_type": "stream",
     "text": [
      "396it [23:06,  1.91s/it]"
     ]
    },
    {
     "name": "stdout",
     "output_type": "stream",
     "text": [
      "480\n"
     ]
    },
    {
     "name": "stderr",
     "output_type": "stream",
     "text": [
      "411it [23:22,  1.08s/it]"
     ]
    },
    {
     "name": "stdout",
     "output_type": "stream",
     "text": [
      "490\n"
     ]
    },
    {
     "name": "stderr",
     "output_type": "stream",
     "text": [
      "423it [24:24,  4.33s/it]"
     ]
    },
    {
     "name": "stdout",
     "output_type": "stream",
     "text": [
      "500\n"
     ]
    },
    {
     "name": "stderr",
     "output_type": "stream",
     "text": [
      "436it [24:43,  1.35s/it]"
     ]
    },
    {
     "name": "stdout",
     "output_type": "stream",
     "text": [
      "510\n"
     ]
    },
    {
     "name": "stderr",
     "output_type": "stream",
     "text": [
      "\r",
      "437it [24:44,  1.12s/it]"
     ]
    },
    {
     "name": "stdout",
     "output_type": "stream",
     "text": [
      "510\n"
     ]
    },
    {
     "name": "stderr",
     "output_type": "stream",
     "text": [
      "449it [28:57, 18.49s/it]"
     ]
    },
    {
     "name": "stdout",
     "output_type": "stream",
     "text": [
      "520\n"
     ]
    },
    {
     "name": "stderr",
     "output_type": "stream",
     "text": [
      "\r",
      "450it [29:01, 14.12s/it]"
     ]
    },
    {
     "name": "stdout",
     "output_type": "stream",
     "text": [
      "520\n"
     ]
    },
    {
     "name": "stderr",
     "output_type": "stream",
     "text": [
      "464it [29:24,  1.43s/it]"
     ]
    },
    {
     "name": "stdout",
     "output_type": "stream",
     "text": [
      "530\n"
     ]
    },
    {
     "name": "stderr",
     "output_type": "stream",
     "text": [
      "476it [29:43,  1.52s/it]"
     ]
    },
    {
     "name": "stdout",
     "output_type": "stream",
     "text": [
      "540\n"
     ]
    },
    {
     "name": "stderr",
     "output_type": "stream",
     "text": [
      "489it [31:27, 17.73s/it]"
     ]
    },
    {
     "name": "stdout",
     "output_type": "stream",
     "text": [
      "550\n"
     ]
    },
    {
     "name": "stderr",
     "output_type": "stream",
     "text": [
      "501it [31:46,  2.05s/it]"
     ]
    },
    {
     "name": "stdout",
     "output_type": "stream",
     "text": [
      "560\n"
     ]
    },
    {
     "name": "stderr",
     "output_type": "stream",
     "text": [
      "513it [32:10,  2.19s/it]"
     ]
    },
    {
     "name": "stdout",
     "output_type": "stream",
     "text": [
      "570\n"
     ]
    },
    {
     "name": "stderr",
     "output_type": "stream",
     "text": [
      "523it [32:32,  1.91s/it]"
     ]
    },
    {
     "name": "stdout",
     "output_type": "stream",
     "text": [
      "580\n"
     ]
    },
    {
     "name": "stderr",
     "output_type": "stream",
     "text": [
      "523it [52:15,  5.99s/it]\n"
     ]
    },
    {
     "ename": "KeyboardInterrupt",
     "evalue": "",
     "output_type": "error",
     "traceback": [
      "\u001b[0;31m---------------------------------------------------------------------------\u001b[0m",
      "\u001b[0;31mKeyboardInterrupt\u001b[0m                         Traceback (most recent call last)",
      "\u001b[0;32m/var/folders/_n/rrz6mzy13l71h2mg878ykrv80000gn/T/ipykernel_44696/2190385100.py\u001b[0m in \u001b[0;36m<module>\u001b[0;34m\u001b[0m\n\u001b[1;32m     10\u001b[0m     \u001b[0;31m#print(url)\u001b[0m\u001b[0;34m\u001b[0m\u001b[0;34m\u001b[0m\u001b[0;34m\u001b[0m\u001b[0m\n\u001b[1;32m     11\u001b[0m \u001b[0;34m\u001b[0m\u001b[0m\n\u001b[0;32m---> 12\u001b[0;31m     \u001b[0mimg\u001b[0m \u001b[0;34m=\u001b[0m \u001b[0mget_pil_image\u001b[0m\u001b[0;34m(\u001b[0m\u001b[0murl\u001b[0m\u001b[0;34m)\u001b[0m\u001b[0;34m\u001b[0m\u001b[0;34m\u001b[0m\u001b[0m\n\u001b[0m\u001b[1;32m     13\u001b[0m \u001b[0;34m\u001b[0m\u001b[0m\n\u001b[1;32m     14\u001b[0m     \u001b[0;32mif\u001b[0m \u001b[0mimg\u001b[0m\u001b[0;34m:\u001b[0m\u001b[0;34m\u001b[0m\u001b[0;34m\u001b[0m\u001b[0m\n",
      "\u001b[0;32m/var/folders/_n/rrz6mzy13l71h2mg878ykrv80000gn/T/ipykernel_44696/2654932795.py\u001b[0m in \u001b[0;36mget_pil_image\u001b[0;34m(url)\u001b[0m\n\u001b[1;32m      9\u001b[0m \u001b[0;34m\u001b[0m\u001b[0m\n\u001b[1;32m     10\u001b[0m     \u001b[0;32mtry\u001b[0m\u001b[0;34m:\u001b[0m\u001b[0;34m\u001b[0m\u001b[0;34m\u001b[0m\u001b[0m\n\u001b[0;32m---> 11\u001b[0;31m         \u001b[0mresponse\u001b[0m \u001b[0;34m=\u001b[0m \u001b[0mrequests\u001b[0m\u001b[0;34m.\u001b[0m\u001b[0mget\u001b[0m\u001b[0;34m(\u001b[0m\u001b[0murl\u001b[0m\u001b[0;34m)\u001b[0m\u001b[0;34m\u001b[0m\u001b[0;34m\u001b[0m\u001b[0m\n\u001b[0m\u001b[1;32m     12\u001b[0m         \u001b[0;32mif\u001b[0m \u001b[0mresponse\u001b[0m\u001b[0;34m.\u001b[0m\u001b[0mstatus_code\u001b[0m \u001b[0;34m==\u001b[0m \u001b[0;36m200\u001b[0m\u001b[0;34m:\u001b[0m\u001b[0;34m\u001b[0m\u001b[0;34m\u001b[0m\u001b[0m\n\u001b[1;32m     13\u001b[0m                 \u001b[0;32mreturn\u001b[0m \u001b[0mImage\u001b[0m\u001b[0;34m.\u001b[0m\u001b[0mopen\u001b[0m\u001b[0;34m(\u001b[0m\u001b[0mio\u001b[0m\u001b[0;34m.\u001b[0m\u001b[0mBytesIO\u001b[0m\u001b[0;34m(\u001b[0m\u001b[0mresponse\u001b[0m\u001b[0;34m.\u001b[0m\u001b[0mcontent\u001b[0m\u001b[0;34m)\u001b[0m\u001b[0;34m)\u001b[0m\u001b[0;34m\u001b[0m\u001b[0;34m\u001b[0m\u001b[0m\n",
      "\u001b[0;32m~/.pyenv/versions/3.8.6/envs/lewagon/lib/python3.8/site-packages/requests/api.py\u001b[0m in \u001b[0;36mget\u001b[0;34m(url, params, **kwargs)\u001b[0m\n\u001b[1;32m     73\u001b[0m     \"\"\"\n\u001b[1;32m     74\u001b[0m \u001b[0;34m\u001b[0m\u001b[0m\n\u001b[0;32m---> 75\u001b[0;31m     \u001b[0;32mreturn\u001b[0m \u001b[0mrequest\u001b[0m\u001b[0;34m(\u001b[0m\u001b[0;34m'get'\u001b[0m\u001b[0;34m,\u001b[0m \u001b[0murl\u001b[0m\u001b[0;34m,\u001b[0m \u001b[0mparams\u001b[0m\u001b[0;34m=\u001b[0m\u001b[0mparams\u001b[0m\u001b[0;34m,\u001b[0m \u001b[0;34m**\u001b[0m\u001b[0mkwargs\u001b[0m\u001b[0;34m)\u001b[0m\u001b[0;34m\u001b[0m\u001b[0;34m\u001b[0m\u001b[0m\n\u001b[0m\u001b[1;32m     76\u001b[0m \u001b[0;34m\u001b[0m\u001b[0m\n\u001b[1;32m     77\u001b[0m \u001b[0;34m\u001b[0m\u001b[0m\n",
      "\u001b[0;32m~/.pyenv/versions/3.8.6/envs/lewagon/lib/python3.8/site-packages/requests/api.py\u001b[0m in \u001b[0;36mrequest\u001b[0;34m(method, url, **kwargs)\u001b[0m\n\u001b[1;32m     59\u001b[0m     \u001b[0;31m# cases, and look like a memory leak in others.\u001b[0m\u001b[0;34m\u001b[0m\u001b[0;34m\u001b[0m\u001b[0;34m\u001b[0m\u001b[0m\n\u001b[1;32m     60\u001b[0m     \u001b[0;32mwith\u001b[0m \u001b[0msessions\u001b[0m\u001b[0;34m.\u001b[0m\u001b[0mSession\u001b[0m\u001b[0;34m(\u001b[0m\u001b[0;34m)\u001b[0m \u001b[0;32mas\u001b[0m \u001b[0msession\u001b[0m\u001b[0;34m:\u001b[0m\u001b[0;34m\u001b[0m\u001b[0;34m\u001b[0m\u001b[0m\n\u001b[0;32m---> 61\u001b[0;31m         \u001b[0;32mreturn\u001b[0m \u001b[0msession\u001b[0m\u001b[0;34m.\u001b[0m\u001b[0mrequest\u001b[0m\u001b[0;34m(\u001b[0m\u001b[0mmethod\u001b[0m\u001b[0;34m=\u001b[0m\u001b[0mmethod\u001b[0m\u001b[0;34m,\u001b[0m \u001b[0murl\u001b[0m\u001b[0;34m=\u001b[0m\u001b[0murl\u001b[0m\u001b[0;34m,\u001b[0m \u001b[0;34m**\u001b[0m\u001b[0mkwargs\u001b[0m\u001b[0;34m)\u001b[0m\u001b[0;34m\u001b[0m\u001b[0;34m\u001b[0m\u001b[0m\n\u001b[0m\u001b[1;32m     62\u001b[0m \u001b[0;34m\u001b[0m\u001b[0m\n\u001b[1;32m     63\u001b[0m \u001b[0;34m\u001b[0m\u001b[0m\n",
      "\u001b[0;32m~/.pyenv/versions/3.8.6/envs/lewagon/lib/python3.8/site-packages/requests/sessions.py\u001b[0m in \u001b[0;36mrequest\u001b[0;34m(self, method, url, params, data, headers, cookies, files, auth, timeout, allow_redirects, proxies, hooks, stream, verify, cert, json)\u001b[0m\n\u001b[1;32m    540\u001b[0m         }\n\u001b[1;32m    541\u001b[0m         \u001b[0msend_kwargs\u001b[0m\u001b[0;34m.\u001b[0m\u001b[0mupdate\u001b[0m\u001b[0;34m(\u001b[0m\u001b[0msettings\u001b[0m\u001b[0;34m)\u001b[0m\u001b[0;34m\u001b[0m\u001b[0;34m\u001b[0m\u001b[0m\n\u001b[0;32m--> 542\u001b[0;31m         \u001b[0mresp\u001b[0m \u001b[0;34m=\u001b[0m \u001b[0mself\u001b[0m\u001b[0;34m.\u001b[0m\u001b[0msend\u001b[0m\u001b[0;34m(\u001b[0m\u001b[0mprep\u001b[0m\u001b[0;34m,\u001b[0m \u001b[0;34m**\u001b[0m\u001b[0msend_kwargs\u001b[0m\u001b[0;34m)\u001b[0m\u001b[0;34m\u001b[0m\u001b[0;34m\u001b[0m\u001b[0m\n\u001b[0m\u001b[1;32m    543\u001b[0m \u001b[0;34m\u001b[0m\u001b[0m\n\u001b[1;32m    544\u001b[0m         \u001b[0;32mreturn\u001b[0m \u001b[0mresp\u001b[0m\u001b[0;34m\u001b[0m\u001b[0;34m\u001b[0m\u001b[0m\n",
      "\u001b[0;32m~/.pyenv/versions/3.8.6/envs/lewagon/lib/python3.8/site-packages/requests/sessions.py\u001b[0m in \u001b[0;36msend\u001b[0;34m(self, request, **kwargs)\u001b[0m\n\u001b[1;32m    653\u001b[0m \u001b[0;34m\u001b[0m\u001b[0m\n\u001b[1;32m    654\u001b[0m         \u001b[0;31m# Send the request\u001b[0m\u001b[0;34m\u001b[0m\u001b[0;34m\u001b[0m\u001b[0;34m\u001b[0m\u001b[0m\n\u001b[0;32m--> 655\u001b[0;31m         \u001b[0mr\u001b[0m \u001b[0;34m=\u001b[0m \u001b[0madapter\u001b[0m\u001b[0;34m.\u001b[0m\u001b[0msend\u001b[0m\u001b[0;34m(\u001b[0m\u001b[0mrequest\u001b[0m\u001b[0;34m,\u001b[0m \u001b[0;34m**\u001b[0m\u001b[0mkwargs\u001b[0m\u001b[0;34m)\u001b[0m\u001b[0;34m\u001b[0m\u001b[0;34m\u001b[0m\u001b[0m\n\u001b[0m\u001b[1;32m    656\u001b[0m \u001b[0;34m\u001b[0m\u001b[0m\n\u001b[1;32m    657\u001b[0m         \u001b[0;31m# Total elapsed time of the request (approximately)\u001b[0m\u001b[0;34m\u001b[0m\u001b[0;34m\u001b[0m\u001b[0;34m\u001b[0m\u001b[0m\n",
      "\u001b[0;32m~/.pyenv/versions/3.8.6/envs/lewagon/lib/python3.8/site-packages/requests/adapters.py\u001b[0m in \u001b[0;36msend\u001b[0;34m(self, request, stream, timeout, verify, cert, proxies)\u001b[0m\n\u001b[1;32m    437\u001b[0m         \u001b[0;32mtry\u001b[0m\u001b[0;34m:\u001b[0m\u001b[0;34m\u001b[0m\u001b[0;34m\u001b[0m\u001b[0m\n\u001b[1;32m    438\u001b[0m             \u001b[0;32mif\u001b[0m \u001b[0;32mnot\u001b[0m \u001b[0mchunked\u001b[0m\u001b[0;34m:\u001b[0m\u001b[0;34m\u001b[0m\u001b[0;34m\u001b[0m\u001b[0m\n\u001b[0;32m--> 439\u001b[0;31m                 resp = conn.urlopen(\n\u001b[0m\u001b[1;32m    440\u001b[0m                     \u001b[0mmethod\u001b[0m\u001b[0;34m=\u001b[0m\u001b[0mrequest\u001b[0m\u001b[0;34m.\u001b[0m\u001b[0mmethod\u001b[0m\u001b[0;34m,\u001b[0m\u001b[0;34m\u001b[0m\u001b[0;34m\u001b[0m\u001b[0m\n\u001b[1;32m    441\u001b[0m                     \u001b[0murl\u001b[0m\u001b[0;34m=\u001b[0m\u001b[0murl\u001b[0m\u001b[0;34m,\u001b[0m\u001b[0;34m\u001b[0m\u001b[0;34m\u001b[0m\u001b[0m\n",
      "\u001b[0;32m~/.pyenv/versions/3.8.6/envs/lewagon/lib/python3.8/site-packages/urllib3/connectionpool.py\u001b[0m in \u001b[0;36murlopen\u001b[0;34m(self, method, url, body, headers, retries, redirect, assert_same_host, timeout, pool_timeout, release_conn, chunked, body_pos, **response_kw)\u001b[0m\n\u001b[1;32m    697\u001b[0m \u001b[0;34m\u001b[0m\u001b[0m\n\u001b[1;32m    698\u001b[0m             \u001b[0;31m# Make the request on the httplib connection object.\u001b[0m\u001b[0;34m\u001b[0m\u001b[0;34m\u001b[0m\u001b[0;34m\u001b[0m\u001b[0m\n\u001b[0;32m--> 699\u001b[0;31m             httplib_response = self._make_request(\n\u001b[0m\u001b[1;32m    700\u001b[0m                 \u001b[0mconn\u001b[0m\u001b[0;34m,\u001b[0m\u001b[0;34m\u001b[0m\u001b[0;34m\u001b[0m\u001b[0m\n\u001b[1;32m    701\u001b[0m                 \u001b[0mmethod\u001b[0m\u001b[0;34m,\u001b[0m\u001b[0;34m\u001b[0m\u001b[0;34m\u001b[0m\u001b[0m\n",
      "\u001b[0;32m~/.pyenv/versions/3.8.6/envs/lewagon/lib/python3.8/site-packages/urllib3/connectionpool.py\u001b[0m in \u001b[0;36m_make_request\u001b[0;34m(self, conn, method, url, timeout, chunked, **httplib_request_kw)\u001b[0m\n\u001b[1;32m    443\u001b[0m                     \u001b[0;31m# Python 3 (including for exceptions like SystemExit).\u001b[0m\u001b[0;34m\u001b[0m\u001b[0;34m\u001b[0m\u001b[0;34m\u001b[0m\u001b[0m\n\u001b[1;32m    444\u001b[0m                     \u001b[0;31m# Otherwise it looks like a bug in the code.\u001b[0m\u001b[0;34m\u001b[0m\u001b[0;34m\u001b[0m\u001b[0;34m\u001b[0m\u001b[0m\n\u001b[0;32m--> 445\u001b[0;31m                     \u001b[0msix\u001b[0m\u001b[0;34m.\u001b[0m\u001b[0mraise_from\u001b[0m\u001b[0;34m(\u001b[0m\u001b[0me\u001b[0m\u001b[0;34m,\u001b[0m \u001b[0;32mNone\u001b[0m\u001b[0;34m)\u001b[0m\u001b[0;34m\u001b[0m\u001b[0;34m\u001b[0m\u001b[0m\n\u001b[0m\u001b[1;32m    446\u001b[0m         \u001b[0;32mexcept\u001b[0m \u001b[0;34m(\u001b[0m\u001b[0mSocketTimeout\u001b[0m\u001b[0;34m,\u001b[0m \u001b[0mBaseSSLError\u001b[0m\u001b[0;34m,\u001b[0m \u001b[0mSocketError\u001b[0m\u001b[0;34m)\u001b[0m \u001b[0;32mas\u001b[0m \u001b[0me\u001b[0m\u001b[0;34m:\u001b[0m\u001b[0;34m\u001b[0m\u001b[0;34m\u001b[0m\u001b[0m\n\u001b[1;32m    447\u001b[0m             \u001b[0mself\u001b[0m\u001b[0;34m.\u001b[0m\u001b[0m_raise_timeout\u001b[0m\u001b[0;34m(\u001b[0m\u001b[0merr\u001b[0m\u001b[0;34m=\u001b[0m\u001b[0me\u001b[0m\u001b[0;34m,\u001b[0m \u001b[0murl\u001b[0m\u001b[0;34m=\u001b[0m\u001b[0murl\u001b[0m\u001b[0;34m,\u001b[0m \u001b[0mtimeout_value\u001b[0m\u001b[0;34m=\u001b[0m\u001b[0mread_timeout\u001b[0m\u001b[0;34m)\u001b[0m\u001b[0;34m\u001b[0m\u001b[0;34m\u001b[0m\u001b[0m\n",
      "\u001b[0;32m~/.pyenv/versions/3.8.6/envs/lewagon/lib/python3.8/site-packages/urllib3/packages/six.py\u001b[0m in \u001b[0;36mraise_from\u001b[0;34m(value, from_value)\u001b[0m\n",
      "\u001b[0;32m~/.pyenv/versions/3.8.6/envs/lewagon/lib/python3.8/site-packages/urllib3/connectionpool.py\u001b[0m in \u001b[0;36m_make_request\u001b[0;34m(self, conn, method, url, timeout, chunked, **httplib_request_kw)\u001b[0m\n\u001b[1;32m    438\u001b[0m                 \u001b[0;31m# Python 3\u001b[0m\u001b[0;34m\u001b[0m\u001b[0;34m\u001b[0m\u001b[0;34m\u001b[0m\u001b[0m\n\u001b[1;32m    439\u001b[0m                 \u001b[0;32mtry\u001b[0m\u001b[0;34m:\u001b[0m\u001b[0;34m\u001b[0m\u001b[0;34m\u001b[0m\u001b[0m\n\u001b[0;32m--> 440\u001b[0;31m                     \u001b[0mhttplib_response\u001b[0m \u001b[0;34m=\u001b[0m \u001b[0mconn\u001b[0m\u001b[0;34m.\u001b[0m\u001b[0mgetresponse\u001b[0m\u001b[0;34m(\u001b[0m\u001b[0;34m)\u001b[0m\u001b[0;34m\u001b[0m\u001b[0;34m\u001b[0m\u001b[0m\n\u001b[0m\u001b[1;32m    441\u001b[0m                 \u001b[0;32mexcept\u001b[0m \u001b[0mBaseException\u001b[0m \u001b[0;32mas\u001b[0m \u001b[0me\u001b[0m\u001b[0;34m:\u001b[0m\u001b[0;34m\u001b[0m\u001b[0;34m\u001b[0m\u001b[0m\n\u001b[1;32m    442\u001b[0m                     \u001b[0;31m# Remove the TypeError from the exception chain in\u001b[0m\u001b[0;34m\u001b[0m\u001b[0;34m\u001b[0m\u001b[0;34m\u001b[0m\u001b[0m\n",
      "\u001b[0;32m~/.pyenv/versions/3.8.6/lib/python3.8/http/client.py\u001b[0m in \u001b[0;36mgetresponse\u001b[0;34m(self)\u001b[0m\n\u001b[1;32m   1345\u001b[0m         \u001b[0;32mtry\u001b[0m\u001b[0;34m:\u001b[0m\u001b[0;34m\u001b[0m\u001b[0;34m\u001b[0m\u001b[0m\n\u001b[1;32m   1346\u001b[0m             \u001b[0;32mtry\u001b[0m\u001b[0;34m:\u001b[0m\u001b[0;34m\u001b[0m\u001b[0;34m\u001b[0m\u001b[0m\n\u001b[0;32m-> 1347\u001b[0;31m                 \u001b[0mresponse\u001b[0m\u001b[0;34m.\u001b[0m\u001b[0mbegin\u001b[0m\u001b[0;34m(\u001b[0m\u001b[0;34m)\u001b[0m\u001b[0;34m\u001b[0m\u001b[0;34m\u001b[0m\u001b[0m\n\u001b[0m\u001b[1;32m   1348\u001b[0m             \u001b[0;32mexcept\u001b[0m \u001b[0mConnectionError\u001b[0m\u001b[0;34m:\u001b[0m\u001b[0;34m\u001b[0m\u001b[0;34m\u001b[0m\u001b[0m\n\u001b[1;32m   1349\u001b[0m                 \u001b[0mself\u001b[0m\u001b[0;34m.\u001b[0m\u001b[0mclose\u001b[0m\u001b[0;34m(\u001b[0m\u001b[0;34m)\u001b[0m\u001b[0;34m\u001b[0m\u001b[0;34m\u001b[0m\u001b[0m\n",
      "\u001b[0;32m~/.pyenv/versions/3.8.6/lib/python3.8/http/client.py\u001b[0m in \u001b[0;36mbegin\u001b[0;34m(self)\u001b[0m\n\u001b[1;32m    305\u001b[0m         \u001b[0;31m# read until we get a non-100 response\u001b[0m\u001b[0;34m\u001b[0m\u001b[0;34m\u001b[0m\u001b[0;34m\u001b[0m\u001b[0m\n\u001b[1;32m    306\u001b[0m         \u001b[0;32mwhile\u001b[0m \u001b[0;32mTrue\u001b[0m\u001b[0;34m:\u001b[0m\u001b[0;34m\u001b[0m\u001b[0;34m\u001b[0m\u001b[0m\n\u001b[0;32m--> 307\u001b[0;31m             \u001b[0mversion\u001b[0m\u001b[0;34m,\u001b[0m \u001b[0mstatus\u001b[0m\u001b[0;34m,\u001b[0m \u001b[0mreason\u001b[0m \u001b[0;34m=\u001b[0m \u001b[0mself\u001b[0m\u001b[0;34m.\u001b[0m\u001b[0m_read_status\u001b[0m\u001b[0;34m(\u001b[0m\u001b[0;34m)\u001b[0m\u001b[0;34m\u001b[0m\u001b[0;34m\u001b[0m\u001b[0m\n\u001b[0m\u001b[1;32m    308\u001b[0m             \u001b[0;32mif\u001b[0m \u001b[0mstatus\u001b[0m \u001b[0;34m!=\u001b[0m \u001b[0mCONTINUE\u001b[0m\u001b[0;34m:\u001b[0m\u001b[0;34m\u001b[0m\u001b[0;34m\u001b[0m\u001b[0m\n\u001b[1;32m    309\u001b[0m                 \u001b[0;32mbreak\u001b[0m\u001b[0;34m\u001b[0m\u001b[0;34m\u001b[0m\u001b[0m\n",
      "\u001b[0;32m~/.pyenv/versions/3.8.6/lib/python3.8/http/client.py\u001b[0m in \u001b[0;36m_read_status\u001b[0;34m(self)\u001b[0m\n\u001b[1;32m    266\u001b[0m \u001b[0;34m\u001b[0m\u001b[0m\n\u001b[1;32m    267\u001b[0m     \u001b[0;32mdef\u001b[0m \u001b[0m_read_status\u001b[0m\u001b[0;34m(\u001b[0m\u001b[0mself\u001b[0m\u001b[0;34m)\u001b[0m\u001b[0;34m:\u001b[0m\u001b[0;34m\u001b[0m\u001b[0;34m\u001b[0m\u001b[0m\n\u001b[0;32m--> 268\u001b[0;31m         \u001b[0mline\u001b[0m \u001b[0;34m=\u001b[0m \u001b[0mstr\u001b[0m\u001b[0;34m(\u001b[0m\u001b[0mself\u001b[0m\u001b[0;34m.\u001b[0m\u001b[0mfp\u001b[0m\u001b[0;34m.\u001b[0m\u001b[0mreadline\u001b[0m\u001b[0;34m(\u001b[0m\u001b[0m_MAXLINE\u001b[0m \u001b[0;34m+\u001b[0m \u001b[0;36m1\u001b[0m\u001b[0;34m)\u001b[0m\u001b[0;34m,\u001b[0m \u001b[0;34m\"iso-8859-1\"\u001b[0m\u001b[0;34m)\u001b[0m\u001b[0;34m\u001b[0m\u001b[0;34m\u001b[0m\u001b[0m\n\u001b[0m\u001b[1;32m    269\u001b[0m         \u001b[0;32mif\u001b[0m \u001b[0mlen\u001b[0m\u001b[0;34m(\u001b[0m\u001b[0mline\u001b[0m\u001b[0;34m)\u001b[0m \u001b[0;34m>\u001b[0m \u001b[0m_MAXLINE\u001b[0m\u001b[0;34m:\u001b[0m\u001b[0;34m\u001b[0m\u001b[0;34m\u001b[0m\u001b[0m\n\u001b[1;32m    270\u001b[0m             \u001b[0;32mraise\u001b[0m \u001b[0mLineTooLong\u001b[0m\u001b[0;34m(\u001b[0m\u001b[0;34m\"status line\"\u001b[0m\u001b[0;34m)\u001b[0m\u001b[0;34m\u001b[0m\u001b[0;34m\u001b[0m\u001b[0m\n",
      "\u001b[0;32m~/.pyenv/versions/3.8.6/lib/python3.8/socket.py\u001b[0m in \u001b[0;36mreadinto\u001b[0;34m(self, b)\u001b[0m\n\u001b[1;32m    667\u001b[0m         \u001b[0;32mwhile\u001b[0m \u001b[0;32mTrue\u001b[0m\u001b[0;34m:\u001b[0m\u001b[0;34m\u001b[0m\u001b[0;34m\u001b[0m\u001b[0m\n\u001b[1;32m    668\u001b[0m             \u001b[0;32mtry\u001b[0m\u001b[0;34m:\u001b[0m\u001b[0;34m\u001b[0m\u001b[0;34m\u001b[0m\u001b[0m\n\u001b[0;32m--> 669\u001b[0;31m                 \u001b[0;32mreturn\u001b[0m \u001b[0mself\u001b[0m\u001b[0;34m.\u001b[0m\u001b[0m_sock\u001b[0m\u001b[0;34m.\u001b[0m\u001b[0mrecv_into\u001b[0m\u001b[0;34m(\u001b[0m\u001b[0mb\u001b[0m\u001b[0;34m)\u001b[0m\u001b[0;34m\u001b[0m\u001b[0;34m\u001b[0m\u001b[0m\n\u001b[0m\u001b[1;32m    670\u001b[0m             \u001b[0;32mexcept\u001b[0m \u001b[0mtimeout\u001b[0m\u001b[0;34m:\u001b[0m\u001b[0;34m\u001b[0m\u001b[0;34m\u001b[0m\u001b[0m\n\u001b[1;32m    671\u001b[0m                 \u001b[0mself\u001b[0m\u001b[0;34m.\u001b[0m\u001b[0m_timeout_occurred\u001b[0m \u001b[0;34m=\u001b[0m \u001b[0;32mTrue\u001b[0m\u001b[0;34m\u001b[0m\u001b[0;34m\u001b[0m\u001b[0m\n",
      "\u001b[0;32m~/.pyenv/versions/3.8.6/lib/python3.8/ssl.py\u001b[0m in \u001b[0;36mrecv_into\u001b[0;34m(self, buffer, nbytes, flags)\u001b[0m\n\u001b[1;32m   1239\u001b[0m                   \u001b[0;34m\"non-zero flags not allowed in calls to recv_into() on %s\"\u001b[0m \u001b[0;34m%\u001b[0m\u001b[0;34m\u001b[0m\u001b[0;34m\u001b[0m\u001b[0m\n\u001b[1;32m   1240\u001b[0m                   self.__class__)\n\u001b[0;32m-> 1241\u001b[0;31m             \u001b[0;32mreturn\u001b[0m \u001b[0mself\u001b[0m\u001b[0;34m.\u001b[0m\u001b[0mread\u001b[0m\u001b[0;34m(\u001b[0m\u001b[0mnbytes\u001b[0m\u001b[0;34m,\u001b[0m \u001b[0mbuffer\u001b[0m\u001b[0;34m)\u001b[0m\u001b[0;34m\u001b[0m\u001b[0;34m\u001b[0m\u001b[0m\n\u001b[0m\u001b[1;32m   1242\u001b[0m         \u001b[0;32melse\u001b[0m\u001b[0;34m:\u001b[0m\u001b[0;34m\u001b[0m\u001b[0;34m\u001b[0m\u001b[0m\n\u001b[1;32m   1243\u001b[0m             \u001b[0;32mreturn\u001b[0m \u001b[0msuper\u001b[0m\u001b[0;34m(\u001b[0m\u001b[0;34m)\u001b[0m\u001b[0;34m.\u001b[0m\u001b[0mrecv_into\u001b[0m\u001b[0;34m(\u001b[0m\u001b[0mbuffer\u001b[0m\u001b[0;34m,\u001b[0m \u001b[0mnbytes\u001b[0m\u001b[0;34m,\u001b[0m \u001b[0mflags\u001b[0m\u001b[0;34m)\u001b[0m\u001b[0;34m\u001b[0m\u001b[0;34m\u001b[0m\u001b[0m\n",
      "\u001b[0;32m~/.pyenv/versions/3.8.6/lib/python3.8/ssl.py\u001b[0m in \u001b[0;36mread\u001b[0;34m(self, len, buffer)\u001b[0m\n\u001b[1;32m   1097\u001b[0m         \u001b[0;32mtry\u001b[0m\u001b[0;34m:\u001b[0m\u001b[0;34m\u001b[0m\u001b[0;34m\u001b[0m\u001b[0m\n\u001b[1;32m   1098\u001b[0m             \u001b[0;32mif\u001b[0m \u001b[0mbuffer\u001b[0m \u001b[0;32mis\u001b[0m \u001b[0;32mnot\u001b[0m \u001b[0;32mNone\u001b[0m\u001b[0;34m:\u001b[0m\u001b[0;34m\u001b[0m\u001b[0;34m\u001b[0m\u001b[0m\n\u001b[0;32m-> 1099\u001b[0;31m                 \u001b[0;32mreturn\u001b[0m \u001b[0mself\u001b[0m\u001b[0;34m.\u001b[0m\u001b[0m_sslobj\u001b[0m\u001b[0;34m.\u001b[0m\u001b[0mread\u001b[0m\u001b[0;34m(\u001b[0m\u001b[0mlen\u001b[0m\u001b[0;34m,\u001b[0m \u001b[0mbuffer\u001b[0m\u001b[0;34m)\u001b[0m\u001b[0;34m\u001b[0m\u001b[0;34m\u001b[0m\u001b[0m\n\u001b[0m\u001b[1;32m   1100\u001b[0m             \u001b[0;32melse\u001b[0m\u001b[0;34m:\u001b[0m\u001b[0;34m\u001b[0m\u001b[0;34m\u001b[0m\u001b[0m\n\u001b[1;32m   1101\u001b[0m                 \u001b[0;32mreturn\u001b[0m \u001b[0mself\u001b[0m\u001b[0;34m.\u001b[0m\u001b[0m_sslobj\u001b[0m\u001b[0;34m.\u001b[0m\u001b[0mread\u001b[0m\u001b[0;34m(\u001b[0m\u001b[0mlen\u001b[0m\u001b[0;34m)\u001b[0m\u001b[0;34m\u001b[0m\u001b[0;34m\u001b[0m\u001b[0m\n",
      "\u001b[0;31mKeyboardInterrupt\u001b[0m: "
     ]
    }
   ],
   "source": [
    "from tqdm import tqdm\n",
    "\n",
    "#features_list = []\n",
    "#image_path_list = []\n",
    "\n",
    "for i, row in tqdm(data[1100:2000].iterrows()):\n",
    "    \n",
    "    url, caption = row['url'], row['caption']\n",
    "    \n",
    "    #print(url)\n",
    "\n",
    "    img = get_pil_image(url)\n",
    "    \n",
    "    if img:\n",
    "\n",
    "        features_list.append(clip_encode_image(img)[0])\n",
    "\n",
    "        simple_img = simplify_image(img, num_colors = 256)\n",
    "\n",
    "        save_img(simple_img, caption, destination_folder = '../raw_data/images')\n",
    "        \n",
    "        image_path_list.append(f\"{caption.replace('.', '')}.png\")\n",
    "    if len(features_list) % 10 == 0:\n",
    "        print(len(features_list))\n",
    "        \n",
    "        \n",
    "\n",
    "#image = get_simplified_image(url, caption, destination_folder = '../raw_data/images', num_colors = 256)"
   ]
  },
  {
   "cell_type": "code",
   "execution_count": 176,
   "id": "3f91380c",
   "metadata": {},
   "outputs": [],
   "source": [
    "image_embeddings = np.stack(features_list)"
   ]
  },
  {
   "cell_type": "code",
   "execution_count": 177,
   "id": "570e2ed8",
   "metadata": {},
   "outputs": [
    {
     "data": {
      "text/plain": [
       "tensor([[ 0.0410, -0.1044, -0.3145,  ...,  0.4066,  0.1564,  0.1414],\n",
       "        [-0.0344,  0.1190,  0.2218,  ...,  0.6305, -0.3967, -0.0071],\n",
       "        [-0.2324,  0.0697,  0.0915,  ...,  0.3114,  0.0565, -0.3759],\n",
       "        ...,\n",
       "        [-0.3113, -0.0241, -0.1355,  ...,  0.7593, -0.2546, -0.2554],\n",
       "        [ 0.0336, -0.1806, -0.0556,  ...,  0.2804,  0.2809,  0.1955],\n",
       "        [-0.6176, -0.1579, -0.5416,  ...,  0.7598,  0.0930,  0.0875]])"
      ]
     },
     "execution_count": 177,
     "metadata": {},
     "output_type": "execute_result"
    }
   ],
   "source": [
    "image_embeddings.shape\n",
    "\n",
    "X_image_embeddings = torch.from_numpy(image_embeddings)\n",
    "X_image_embeddings"
   ]
  },
  {
   "cell_type": "code",
   "execution_count": 163,
   "id": "90fa26ea",
   "metadata": {},
   "outputs": [],
   "source": [
    "# mnist = pymde.datasets.MNIST()\n",
    "# mnist.data"
   ]
  },
  {
   "cell_type": "code",
   "execution_count": 178,
   "id": "9fddecd0",
   "metadata": {},
   "outputs": [
    {
     "name": "stdout",
     "output_type": "stream",
     "text": [
      "Jul 02 01:25:39 AM: Computing 5-nearest neighbors, with max_distance=None\n",
      "Jul 02 01:25:39 AM: Exact nearest neighbors by brute force \n",
      "Jul 02 01:25:39 AM: Computing quadratic initialization.\n",
      "Jul 02 01:25:39 AM: Fitting a centered embedding into R^2, for a graph with 580 items and 4213 edges.\n",
      "Jul 02 01:25:39 AM: `embed` method parameters: eps=1.0e-05, max_iter=300, memory_size=10\n",
      "Jul 02 01:25:39 AM: iteration 000 | distortion 0.529098 | residual norm 0.0905655 | step length 0.51596 | percent change 0.137199\n",
      "Jul 02 01:25:39 AM: iteration 030 | distortion 0.280032 | residual norm 0.00242741 | step length 1 | percent change 0.989663\n",
      "Jul 02 01:25:39 AM: iteration 060 | distortion 0.277166 | residual norm 0.00110947 | step length 1 | percent change 0.894307\n",
      "Jul 02 01:25:40 AM: iteration 090 | distortion 0.275297 | residual norm 0.000927837 | step length 1 | percent change 0.513152\n",
      "Jul 02 01:25:40 AM: iteration 120 | distortion 0.274814 | residual norm 0.000516245 | step length 1 | percent change 0.362337\n",
      "Jul 02 01:25:40 AM: iteration 150 | distortion 0.274694 | residual norm 0.000309687 | step length 1 | percent change 0.146823\n",
      "Jul 02 01:25:40 AM: iteration 180 | distortion 0.274152 | residual norm 0.000987747 | step length 1 | percent change 0.296372\n",
      "Jul 02 01:25:40 AM: iteration 210 | distortion 0.273833 | residual norm 0.000440543 | step length 1 | percent change 0.0186609\n",
      "Jul 02 01:25:40 AM: iteration 240 | distortion 0.273791 | residual norm 0.000202887 | step length 1 | percent change 0.0694863\n",
      "Jul 02 01:25:40 AM: iteration 270 | distortion 0.273757 | residual norm 0.00012435 | step length 1 | percent change 0.0527309\n",
      "Jul 02 01:25:40 AM: iteration 299 | distortion 0.273748 | residual norm 0.000107193 | step length 1 | percent change 0.126472\n",
      "Jul 02 01:25:40 AM: Finished fitting in 0.917 seconds and 300 iterations.\n",
      "Jul 02 01:25:40 AM: average distortion 0.274 | residual norm 1.1e-04\n"
     ]
    }
   ],
   "source": [
    "import pymde\n",
    "\n",
    "mde = pymde.preserve_neighbors(X_image_embeddings, embedding_dim=2, verbose=True)\n",
    "embedding = mde.embed(verbose=True)"
   ]
  },
  {
   "cell_type": "code",
   "execution_count": 179,
   "id": "d18faeda",
   "metadata": {
    "collapsed": true
   },
   "outputs": [
    {
     "data": {
      "text/plain": [
       "['author : a life in photography -- in pictures.png',\n",
       " 'the player staring intently at a computer screen .png',\n",
       " 'the - bedroom stone cottage can sleep people.png',\n",
       " 'party in the park under cherry blossoms.png',\n",
       " 'a man holds what is believed to be some of the debris that caused damage to vehicles monday afternoon after airliner returned to airport following problems after take off .png',\n",
       " \"where 's the best place to show off your nails ? right in front of the castle , of course !.png\",\n",
       " 'that combines elements of a simple vegetable and dish.png',\n",
       " 'transformers : till all are issue # 4b.png',\n",
       " 'illustration of a little girl taking a bath.png',\n",
       " 'tv police procedural is filming on the street this week .png',\n",
       " 'the new terminal on island with quiet sea and setting sun.png',\n",
       " 'what makeup to wear to a job interview.png',\n",
       " 'the dentist drill the tooth with a turbine.png',\n",
       " 'pair of new bright orange modern sneakers isolated on a white background.png',\n",
       " 'ask industry to do in our family room ?.png',\n",
       " 'sandcastle beach on bright sky .png',\n",
       " 'cowboy boots are a major hit for spring and summer !.png',\n",
       " 'a humorous call to arms against invention .png',\n",
       " 'football player said after the game that his players had to learn lessons from the loss.png',\n",
       " 'biological species with pup along a city.png',\n",
       " 'football player before the match held the teams drew 22.png',\n",
       " 'keeping fans informed : since their birth in january this year , the couple have been keeping fans updated with the babies progress.png',\n",
       " 'a man on a scooter , taking part in the rally.png',\n",
       " 'cruise ship and boats by the dock.png',\n",
       " 'dry fields on a summer day.png',\n",
       " 'how many triangles are there in this picture.png',\n",
       " 'sand & sea : paradise on the prom - photo.png',\n",
       " 'single cowboy guiding a line of horses through the desert.png',\n",
       " 'actor attends the opening ceremony of exhibition.png',\n",
       " 'smiling woman dressed in purple sari sitting beside a pink wall outside rural home.png',\n",
       " '2nd prime minister 183034 from the portrait by painting artist.png',\n",
       " 'close - up of a cat on tree branch.png',\n",
       " 'illustration of a boy walking across the bakery.png',\n",
       " 'a sheltered walkway between the building and tower.png',\n",
       " 'the description of this sculpture is in the previous photo .png',\n",
       " 'flying over the mountains and lake.png',\n",
       " 'stormy marriage : the couple appeared happy in this picture .png',\n",
       " 'wine tasting in the sunshine.png',\n",
       " 'political map with the several counties wherea city is highlighted .png',\n",
       " 'how to add privacy and texture to any window or industry for less than $20 .png',\n",
       " 'vector illustration of a banner for holiday with colorful kites .png',\n",
       " 'exercises during a training session.png',\n",
       " 'cranes at a high rise development.png',\n",
       " 'even during the winter months , there is plenty to see , do and admire outside .png',\n",
       " 'spooky food at the party.png',\n",
       " 'i like how the hot tub is in the deck .png',\n",
       " 'a commuter train travels next.png',\n",
       " 'hair today : the former model has bolstered his thinning locks with a £ 6,000 operation.png',\n",
       " 'couple time along the west coast .png',\n",
       " 'person feeding apples to an elephant in captivity.png',\n",
       " 'religious leadership title holds a private audience with pilgrims.png',\n",
       " 'building function is cool , but lacks some needed things for a total experience .png',\n",
       " 'leaves vector illustration on a seamless pattern background.png',\n",
       " 'people walking by the christmas tree and stage area .png',\n",
       " 'interior of building function , altered a little for the event.png',\n",
       " 'young bearded caucasian modern business man sitting in a bar , using laptop , looking downward , tapping on keyboard.png',\n",
       " \"beach volleyball player defends against person during the women 's main draw .png\",\n",
       " 'boy grooming his horse in the stables .png',\n",
       " 'marking our way through the dunes as we neared the coast.png',\n",
       " 'a silhouetted palm tree with boat tied to it rests on a beach that a man walks across during golden hour.png',\n",
       " 'a time - lapse video of the sky .png',\n",
       " 'scattered clouds moving rapidly in blue skies reflecting the sunrise , then vanishing to clear skies.png',\n",
       " 'a skull and cross bones pirate flag blows in the wind.png',\n",
       " 'mixing the flour , sugar , salt and yeast for a pizza dough.png',\n",
       " 'court during a volleyball game.png',\n",
       " 'baby lying in the bed with spoon.png',\n",
       " 'an image of a cartoon sad woman .png',\n",
       " 'creative fan - made movie posters as good or better than the real thing ?.png',\n",
       " 'style which is an emblem for royals , government.png',\n",
       " \"combines famous scenes from plays with the internet 's favorite animal .png\",\n",
       " 'cover of the book by organization leader.png',\n",
       " 'majestic elegance - downstairs main bar in the massive lobby .png',\n",
       " 'person , 20th century oil on board still life of flowers in a vase , signed bottom left.png',\n",
       " 'receive a card when you replace your windshield and pay with your insurance !.png',\n",
       " 'detail of a painting by person.png',\n",
       " 'christmas gingerbread in the shape of an umbrella -- stock photo #.png',\n",
       " 'a male bull standing in a field.png',\n",
       " 'keep an eye out for leopard in the trees bordering river .png',\n",
       " 'tourist attraction the gardens gifted by fashion business to the city.png',\n",
       " 'young peoples dances with fire in the night.png',\n",
       " 'view from the roof terrace by the pool .png',\n",
       " 'add color to a stark , white bathroom with art and accessories .png',\n",
       " 'hat in the flag colors isometric 3d icon on a white background vector.png',\n",
       " 'actor poses with his family at the premiere , at laemmle noho .png',\n",
       " 'actor was a classic beauty with her sleek center - parted hairstyle .png',\n",
       " 'this cat has a sleigh of his own.png',\n",
       " \"your own private men 's store !.png\",\n",
       " 'statue of monk and his disciples who are on entry of the monastery of the saint in central.png',\n",
       " 'this pair of brown leatherstyle boots looks incredibly comfortable while making a distinct statement .png',\n",
       " 'red carpet pictured tv host arrives at the event.png',\n",
       " 'tourists walking in the old town.png',\n",
       " 'digital art selected for the #.png',\n",
       " 'happy girl in hat sitting by the fireplace and looking inside glowing present box.png',\n",
       " 'looking along the river with vehicles crossing over on the bridges spanning the calm water.png',\n",
       " \"there 's a new toy in town .png\",\n",
       " \"it 's almost impossible to make a wrong choice when shopping for a smartphone these days -- the industry has reached a point where just about every device out there is an excellent daily performer .png\",\n",
       " 'person is given a count by person as professional boxer waits to find out if the fight is over.png',\n",
       " 'a fine inlaid slant top desk from the family of person .png',\n",
       " 'bald eagle in a tree.png',\n",
       " 'the fountain was adorned with this rather fine statue .png',\n",
       " 'animation of the virtual speedometer indicates the new year .png',\n",
       " 'wild mustang spring foal with its mare in a parched alpine meadow.png',\n",
       " 'a person reads newspaper , the morning after the referendum results and person.png',\n",
       " 'futuristic style : share a moment before the games begin.png',\n",
       " 'child sitting at a desk with his hands in the air.png',\n",
       " 'overweight woman running on a treadmill , vector also available .png',\n",
       " 'pretty pink roses in a cup.png',\n",
       " 'biological species walking on the glade .png',\n",
       " 'black clouds in the red sky .png',\n",
       " 'blues artist and alternative country artist perform as part of film festival.png',\n",
       " 'statesman and politician attend a formal event .png',\n",
       " 'mother is looking at her son riding a carousel in amusement park.png',\n",
       " 'vector illustration of a banner for holiday .png',\n",
       " 'chickens behind a mesh fence.png',\n",
       " 'beautiful young woman with their horses swimming in the lake at sunset.png',\n",
       " 'gecko with a green plant.png',\n",
       " 'all i wanted is to eat the chicken that is smarter than other chickens and to absorb its power .png',\n",
       " 'preparing dairy cattle to the show at show.png',\n",
       " 'pop artist performs at concert.png',\n",
       " 'politicians speaking at an event .png',\n",
       " 'giant light up letters , hearts and venue decorations.png',\n",
       " 'sister gives her twin brother a hug while looking for their next christmas tree.png',\n",
       " 'monkeys play on a crenellated a city was built by man and open in the late 1590s.png',\n",
       " 'colorful and sunny video of fresh black coffee with croissant on the background.png',\n",
       " 'on my way to class i saw this huge python slithering along a main road , right outside the train station .png',\n",
       " 'everyone waits until the first nice weekend , but boat yards suddenly go from working on boats to 200 at once !.png',\n",
       " 'dogs walking by a barn with sun rays through trees and morning fog against clear skies in black and white.png',\n",
       " 'joyful asian male dressed in shirt in a cage and wearing glasses using laptop at the library and listen to music while drinking coffee .png',\n",
       " 'swirling water over the ceramic tiles , fragment of a fountain in german park.png',\n",
       " 'close - up of a young man looking sideways.png',\n",
       " 'graveyard of ships on the river .png',\n",
       " 'a whale of a tale !.png',\n",
       " \"the lights are turned on today for the world 's tallest artificial christmas tree .png\",\n",
       " \"i 'm really loving the idea of a modern style canopy bed for my potential apartment .png\",\n",
       " 'driving on the highway during snow storm.png',\n",
       " 'the prime minister was joined by politician during a visit.png',\n",
       " 'tourist attraction has seen an influx of use since undergoing massive renovations .png',\n",
       " 'people use a canoe to get through a flooded area .png',\n",
       " 'the details back view of the sugar flowers.png',\n",
       " 'spring summer new dress their children in the long waist.png',\n",
       " 'actor attends the after party for tv teen drama at computer.png',\n",
       " 'a chinese shrine in a car park.png',\n",
       " 'members of the public watch a street performer.png',\n",
       " 'week win over sports team was exciting but costly as american football player suffered a broken foot during the game .png',\n",
       " 'they created a wall of shelves for trinkets to marvel at as you head up the stairs .png',\n",
       " 'person with her guide dog .png',\n",
       " 'silhouettes of the dolphins , vector.png',\n",
       " 'girl standing on the ice rink and smiling.png',\n",
       " 'detail of a car engine.png',\n",
       " 'jump into bed and relax all your worries away !.png',\n",
       " 'people and person get in the pink before the race .png',\n",
       " 'analysis of illustration on a blue background.png',\n",
       " 'painting of a shallow reef in geologic time period .png',\n",
       " 'the buzz : new bags by fashion business.png',\n",
       " 'q by automotive industry business launching bhp flagship sedan later this year - report.png',\n",
       " 'from the program : the bowl is yours to keep as a reminder of those whose bowls are empty .png',\n",
       " 'little boy saving his money in a piggy bank.png',\n",
       " 'person and students from person from the latest excavation.png',\n",
       " 'pictured : politician wins the day with the best t - shirt ever for a politician attending a80s - themed event .png',\n",
       " 'gone but not forgotten , this mission - style beauty was once the focal point .png',\n",
       " 'accommodation type in the wilderness.png',\n",
       " 'koi swimming in a swirl .png',\n",
       " 'big collection of fruit in a water splash .png',\n",
       " 'bridge  gets interesting toward the end if you look at the shadow !.png',\n",
       " 'yellow pencils in a row from shortest to longest royalty - free.png',\n",
       " 'in love with these heels.png',\n",
       " 'and they shared a cake worthy of a party .png',\n",
       " 'hard rock artist performs at concert theater.png',\n",
       " 'wall paper adds richness , texture , and depth to a room .png',\n",
       " 'bedroom apartment in the grade ii - listed 1950s.png',\n",
       " 'magician with person during a performance.png',\n",
       " 'silhouette of a woman who dances .png',\n",
       " 'christmas star ornaments in the night.png',\n",
       " 'filming location one of the holy cities on the banks of the pilgrims.png',\n",
       " 'actor at the premiere of action film.png',\n",
       " 'shoppers and visitors crowd tourist attraction as the holiday approaches .png',\n",
       " 'politician presents award to politician during the 52nd award ceremony .png',\n",
       " 'figurines - loved to see which one was in the box !.png',\n",
       " 'part of the art collection .png',\n",
       " 'a variety of colors of our fresh african violet inch plants .png',\n",
       " 'waiting in a corridor young woman.png',\n",
       " 'no doubt someone spent several hours creating this intricate brooch .png',\n",
       " 'single tropical palm tree on a windy day , with summer sunny blue sky as copy space and outdoor background.png',\n",
       " 'big airship in the air , 3d render.png',\n",
       " 'foxes are among the most intelligent animals in the world by the characteristics they possess .png',\n",
       " 'teen pop artist covered up in the back seat of a police vehicle , en route to jail after being.png',\n",
       " 'supermodel and graphic designer attend the premiere after party.png',\n",
       " \"file photo of tennis player with the championship trophy during the awards ceremony after his victory against tennis player in the men 's singles final .png\",\n",
       " 'a squirrel on top of a bin eating something.png',\n",
       " 'a sign warns people of potential dangers.png',\n",
       " 'rock artist performs with heartland rock artist.png',\n",
       " \"when a seashell is a telephone and you can speak to your mysterious friend about the pie you 're baking for saturday night 's dinner .png\",\n",
       " 'how amazing are those tables with inlaid wood ?.png',\n",
       " 'celebrity looked stylish in a fitted brown coat with matching heels and a hat .png',\n",
       " 'large crowds attended the 4th annual festival.png',\n",
       " 'daily newspaper and tablet pc on the wooden table.png',\n",
       " 'td vintage sports car on display at a car show.png',\n",
       " 'person themed print for your little ones room .png',\n",
       " 'publicist arrives for the world premiere.png',\n",
       " 'a closeup shot of a sliced avocado .png',\n",
       " 'when pets go on vacation , they pull out all the stops !.png',\n",
       " 'illustration of the national flag looking like it is painted onto a wall.png',\n",
       " 'crew put their boat in the water.png',\n",
       " 'a silhouette of a motorcycle racer commits high jump.png',\n",
       " 'person and solar panels on a red tile roof.png',\n",
       " 'corn on the cob vintage engraved illustration .png',\n",
       " 'isolated cartoon illustration with a sweet food .png',\n",
       " 'receive the money you need in minutes or less !.png',\n",
       " 'rugby player celebrates with team - mates after scoring against the hurricanes .png',\n",
       " 'the dance team performs during halftime .png',\n",
       " 'man in bathrobe lying on a lounge next to pool.png',\n",
       " 'students attend a lecture for first semester students at the university.png',\n",
       " 'motorbike on the gravel road.png',\n",
       " 'the outlook of the art museum .png',\n",
       " 'there were some pretty threatening clouds over canadian census division on monday evening before a torrential downpour drenched the city .png',\n",
       " 'illustration of a cute cat .png',\n",
       " 'country have a way with geraniums !.png',\n",
       " 'a cast iron water pump in an alley.png',\n",
       " 'the stream flows through the rocks.png',\n",
       " 'singer smiling seated at the piano 1970s.png',\n",
       " 'are announcing the plans for the event to commemorate the 25th anniversary of the riots .png',\n",
       " 'news gathering car remained , parked outside house .png',\n",
       " 'actor attends the global launch of collection.png',\n",
       " 'the country highlighted in red on an abstract illustrated map of the continent.png',\n",
       " 'recurring competition maybe this body shape will be back in style.png',\n",
       " 'fleas often ride pets into a home .png',\n",
       " 'people waiting for the bus in snow storm.png',\n",
       " 'the importance of social media to business.png',\n",
       " 'in bloom : prices for the dresses , leggings , skirts and tops will range from $1995 to $4495.png',\n",
       " 'actor and his wife at festival.png',\n",
       " 'welcome travel flat vector illustration .png',\n",
       " 'propeller of a passenger plane.png',\n",
       " 'tour boat through the canal.png',\n",
       " 'actor arrives for the premiere.png',\n",
       " 'a solar system is a group of objects in space that orbit a star .png',\n",
       " 'folk rock artist and rock artist perform on stage.png',\n",
       " 'property image # modern , classic country house surrounded by fruit trees with a pool , the beach , air.png',\n",
       " 'a stylized map showing the different islands and several cities .png',\n",
       " 'hundreds benefit from latest stuff the bus.png',\n",
       " 'lot - a figure of a penguin.png',\n",
       " 'leak in the tap water.png',\n",
       " 'tree on the hill fused glass wall art - fired creations.png',\n",
       " 'football player talks to the media during football competition in press conference.png',\n",
       " 'close - up of a human head consisting with heavy rains depicting headache.png',\n",
       " 'seamless with white crane on the black background .png',\n",
       " 'stylish couple : actor and organisation founder put on a loved - up display as they enjoyed day on monday.png',\n",
       " 'thousands gather to watch the races on the village green .png',\n",
       " 'portrait of tribal dancer , beautiful woman in the ethnic style on a textured background.png',\n",
       " 'the stormy spell is expected to hit as saturday fades into sunday - with extra moisture and heat from a city adding strength to showers and winds , particularly in northern and western parts .png',\n",
       " 'make wish for new year .png',\n",
       " 'rugby player in action during a training session.png',\n",
       " 'a city is one of the cities .png',\n",
       " 'tattooed female barber working on a client in barber shop.png',\n",
       " 'this picture is from one of the villages that water to thrive built a well in water to thrive.png',\n",
       " 'cinematic style video of young student in cafe .png',\n",
       " 'a general view during the final auditions .png',\n",
       " 'woman walking on the very crowded street , stabilized camera.png',\n",
       " 'a boat on a wild lake.png',\n",
       " 'a wasteland with a disused building.png',\n",
       " 'little girl riding a toy car .png',\n",
       " 'singer and musical artist performs live.png',\n",
       " 'a rusty old car sitting on the ground on a farm.png',\n",
       " 'actor looking gorge in an orange dress by fashion business.png',\n",
       " 'a modern holiday villa on the island.png',\n",
       " 'biological species in flight shows the unique markings in the wings .png',\n",
       " 'biological genus , surrounded by biological species , dropped all of these leaves .png',\n",
       " 'actor wearing a gown and clutch with sandals .png',\n",
       " 'dishes with seafood traveling on the conveyor .png',\n",
       " '4k aerial view of many speedboat to the beach.png',\n",
       " 'people showed up to the event where the democratic presidential candidate received loud cheers when she took to the stage.png',\n",
       " 'vector seamless pattern of fun a bear isolated on white background .png',\n",
       " 'hard rock artist speaks onstage .png',\n",
       " 'turtles looking up in the air.png',\n",
       " 'laying out on the deck of the boat.png',\n",
       " 'school of fishes in the sea .png',\n",
       " 'the snakes across a trail .png',\n",
       " 'soccer player is beaten to the ball by soccer player.png',\n",
       " 'artist takes part in an advertising campaign.png',\n",
       " 'siding going up on the garage .png',\n",
       " 'save organisation : photos outside government agency.png',\n",
       " 'one after a troubled path , is renovated and for sale.png',\n",
       " 'a cute , stray dog in the mountain town.png',\n",
       " 'festivals , events and concerts looking south towards a city .png',\n",
       " 'autumn leaves on a plate of slate.png',\n",
       " 'high quality videos of flag waving in the wind in film format.png',\n",
       " 'the flag flies from the19th century tower of the plant.png',\n",
       " 'tropical climates the humid , dark conditions in the lower layer of the forest are ideal for growing moss , fungus , and ferns .png',\n",
       " 'stylish women friends walking in a park.png',\n",
       " 'biological species on a nest.png',\n",
       " 'present : also at the event was colleagues.png',\n",
       " 'whoever designed this geometric wine rack did something unthinkable - they made wine even better than it was before .png',\n",
       " 'train tracks inside the camp.png',\n",
       " 'wooden door in a rock wall with reflection of sky and clouds.png',\n",
       " 'invention on the satellite captures images of algal blooms visible as swirls of green in this image and in last summer .png',\n",
       " 'a generic picture of a road closed by police.png',\n",
       " 'children who were protesting about the plans to build houses in green areas on the estate.png',\n",
       " 'arcade  i need this in my living room !.png',\n",
       " 'make it matter with this gorgeous pink diary , which can be monogrammed with your initials .png',\n",
       " 'a model walks the runway during the show.png',\n",
       " 'cars are driving at night .png',\n",
       " 'silver lamp with an unicorn and lion at the base of the lamp.png',\n",
       " 'crossing at night in the district.png',\n",
       " 'this narrow - design , flip - top console table makes space - saving beautiful , providing an extra surface when needed without taking up precious room .png',\n",
       " \"display of fish in trays of ice on a fishmonger 's market stall.png\",\n",
       " 'vintage stylized rooster on red shining background .png',\n",
       " 'a red fox sits on a dirt road in the fall.png',\n",
       " 'friends resting and drinking hot drink near the car in mountains.png',\n",
       " 'inside finish not good door was taller than all others .png',\n",
       " \"elevated view of rows of empty wooden director 's chairs , filling the frame creating a nice pattern.png\",\n",
       " \"i 'd love to wear a poncho similar to this but i live in a city and i would be beaten up .png\",\n",
       " 'a fallen white oak leaf shows what passes for autumn colors out here .png',\n",
       " 'on the market : modernist property.png',\n",
       " 'pumpkin over the soil in a traditional vegetable garden.png',\n",
       " 'the cure for anything is salt water.png',\n",
       " 'fishermen down at the port.png',\n",
       " 'cat with a stethoscope on a background of pills.png',\n",
       " 'starry night on the lake.png',\n",
       " 'a lioness in person , a zoo.png',\n",
       " 'the capital is an incredible city !.png',\n",
       " 'buy football team smoked light from the online shop.png',\n",
       " 'wall of the rural house made from cracked thick red timbers background.png',\n",
       " 'getting a new designer single roof.png',\n",
       " 'hard rock artist performing live on stage at the festival.png',\n",
       " 'cars pass on a country road at night.png',\n",
       " 'residents became upset by plan to euthanize beavers that have been building dams on part.png',\n",
       " 'industry is a thrifty way to add beautiful decor to any bathroom , office , or kitchen .png',\n",
       " 'blue germs in a drop of dirty water - dark blue background.png',\n",
       " 'modular construction is when a complete home or an addition is built in a climate - controlled factory and then delivered to the final destination .png',\n",
       " 'things to do whether as a couple or with the entire family .png',\n",
       " 'discover opportunity and prosperity finding success as a business concept with a green leaf clover growing.png',\n",
       " 'grunge textured wall - old grey background with copy space and scratches.png',\n",
       " 'praying hands tattoo designs for men silence the mind.png',\n",
       " \"i 'm not one for facial piercings , but i must say that fictional character can be really beautiful !.png\",\n",
       " 'black pleat leather skirt from the episode.png',\n",
       " '-- you see yourself as a shipwreck , but we see your treasure glowing inside , beneath the oceans in you.png',\n",
       " 'picture of a skull in hat with red eyes.png',\n",
       " 'this cartoon shows people walking through the cellar to the place where person thinks there is a very rare and expensive wine .png',\n",
       " 'broken smartphone in the rear pocket of blue jeans.png',\n",
       " 'digital art selected for the #.png',\n",
       " 'from left , person person of a city and person are organizing another event .png',\n",
       " 'holiday : has a heritage that stems .png',\n",
       " 'big and small giraffe on the yellow background.png',\n",
       " 'different coloured koi swimming in a pond.png',\n",
       " 'illustration of a girl in the park.png',\n",
       " 'a stomach settling breakfast right before our flight.png',\n",
       " 'driving by corn field on a small rural farm on a back country road.png',\n",
       " 'leading lady : actor is heading up the cast as the accused woman herself.png',\n",
       " \"person is like a gold ring in a pig 's nose !.png\",\n",
       " 'light brown teddy bear , with orange overalls , portrait against a dark background.png',\n",
       " 'thanks to person for a shot of the lighthouse .png',\n",
       " 'a vintage controller photographed on a glass table surrounded by bowls of snacks taken.png',\n",
       " 'first deck of the season built .png',\n",
       " 'images vs girls basketball game .png',\n",
       " 'a cage with birds and balloons near a girl playing harp.png',\n",
       " 'film actor attends the premiere during film festival and festivals.png',\n",
       " \"tennis tournament champion leaps for a ball in the men 's semifinal he went on to win the title.png\",\n",
       " 'students walk past greek revival structure.png',\n",
       " 'businesswoman pointing finger up isolated on a white background .png',\n",
       " 'an entry from design and posters.png',\n",
       " 'concept of technology and lifestyle in teens life .png',\n",
       " 'vector design of the flyer .png',\n",
       " 'beautiful single flower on a pink background .png',\n",
       " 'museum built on the bunker .png',\n",
       " 'after an incredible long weekend we headed to the airport - stopping to take a picture of the strip before we left .png',\n",
       " 'a sitting area and beyond is the formal living room.png',\n",
       " 'a tractor parked in a farmyard.png',\n",
       " 'portrait of a boxer dog outdoors.png',\n",
       " 'a classic wedding cake for a classic venue a few months back.png',\n",
       " 'this light is made from a quart mason jar .png',\n",
       " 'wooden pallets being transported on a van.png',\n",
       " 'series of a hand drawn person.png',\n",
       " 'we were really that close to the action !.png',\n",
       " 'scenes from around the property at our and other weddings.png',\n",
       " 'white paper christmas tree on a red matte background .png',\n",
       " 'see more photos for this victory kingpin - ball motorcycle listing.png',\n",
       " 'a small wooden indoor of classroom.png',\n",
       " \"events : what 's on ? join in the fun.png\",\n",
       " 'a squirrel on a bench in a park.png',\n",
       " 'the head of the ancient queen.png',\n",
       " 'colored vector drawing of a fictional woman who was facing up , heart background .png',\n",
       " 'black white studio portrait of boys in a photography studio.png',\n",
       " 'vector illustration of biological species .png',\n",
       " 'a man in the steppe goes to a tree.png',\n",
       " \"sketch of rock and roll artist done some time ago , forgot about it and thought i 'd share it with you all !.png\",\n",
       " 'try to understand people before trusting them .png',\n",
       " 'girl with vintage camera against the graffiti wall and photographs.png',\n",
       " 'coat of arms of detail.png',\n",
       " 'people from show with person , who brought in a cine camera to the fundraising event that was held .png',\n",
       " 'young couple sitting on grass at the park with umbrella .png',\n",
       " 'website category wanted a driveway so he would not have to keep parking his car on the road.png',\n",
       " 'how to stencil a solid pattern on a wall.png',\n",
       " 'a toddler boy playing on the stairs of his house with his stuffed monkey.png',\n",
       " 'example of a small trendy backyard stone patio design.png',\n",
       " 'heating a garden room in winter.png',\n",
       " 'nutrition includes menus developed around unprocessed , seasonal food with a focus on quality.png',\n",
       " 'upside view of a spiral staircase .png',\n",
       " 'beverage type - the original beer.png',\n",
       " \"researchers have found that the ant 's hair allows the insect to travel under great temperatures in the desert .png\",\n",
       " 'men and women made signs and stood out in the snow to protest.png',\n",
       " 'wedding - short white wedding dress , strapless tea length wedding dress with a black sash.png',\n",
       " 'i finally finished this thing i started like months ago .png',\n",
       " 'large span iron bridge over river - the largest tributary.png',\n",
       " 'my favorite shot of the day from a walk .png',\n",
       " 'you can buy this time capsule house for $665,000.png',\n",
       " 'mix all the dry ingredients in a large bowl.png',\n",
       " 'in my head i hear actor as drama film.png',\n",
       " 'the hands of a dancer.png',\n",
       " 'close up of apples on a tree.png',\n",
       " 'handmade high classic medieval leather boots .png',\n",
       " 'greeting card featuring tower by hard rock artist.png',\n",
       " 'a monkey crosses temple at sunrise.png',\n",
       " 'design of the tattoo - sweet photo.png',\n",
       " 'shoppers struggle through the heavy snow.png',\n",
       " 'recently crabs have been observed as one of the few predators attempting to prey on this frog .png',\n",
       " 'blues artist on the cover.png',\n",
       " 'large machines sitting broken in the hallway .png',\n",
       " 'the new tdi on test.png',\n",
       " 'cyclists are discussing at the beach.png',\n",
       " 'portrait of an old man.png',\n",
       " 'community makes shop with a sheriff a success , deputy says.png',\n",
       " 'pink flowers and thistles on a white background.png',\n",
       " 'beekeeper working in a spring season.png',\n",
       " 'early morning joggers pass cherry trees in bloom along tourist attraction .png',\n",
       " 'aerial view of a highway amid fields with cars on it.png',\n",
       " 'texture from the center of abstraction , rays.png',\n",
       " 'the enduring love story of noble person and person understood except them how deep and how strong a love it was .png',\n",
       " 'the early bird gets the worm , or in this case the sparkling all natural purple sapphire .png',\n",
       " 'olympic athlete of gestures during the match .png',\n",
       " 'how to avoid being scammed when you go to show.png',\n",
       " 'combine all the ingredients in a mixing bowl .png',\n",
       " 'lightning over bodies of water .png',\n",
       " 'soldiers stand next to a tank at an air base .png',\n",
       " 'outdoor seating area from outdoor sectional plan - with a twist !.png',\n",
       " 'these studs are based on a turn - of - the - last - century piece , in which diamonds and colored stones alternated to make an orderly square grid .png',\n",
       " 'someone requested a picture of symphony and theater character together at the same age .png',\n",
       " 'person in all the world.png',\n",
       " 'shiny ornaments on the artificial tree.png',\n",
       " 'grey background with the silhouette of cross.png',\n",
       " 'hand writing on a whiteboard with a blue pen.png',\n",
       " 'dog on a lead at show.png',\n",
       " 'how to fix a scratch on a flat screen tv.png',\n",
       " 'the couple have reportedly gone to celebrate their engagement after leaving a massive hole in the roof of neighbouring properties.png',\n",
       " 'singing his heart out : pop artist seemed to be enjoying the performance as he sang along.png',\n",
       " 'person of folk rock artist performs on stage.png',\n",
       " 'fresh green forest and gentle river after the rain.png',\n",
       " 'teen boy walks home over a pedestrian bridge in the neighborhood.png',\n",
       " 'happy little girl learns how to ride a bike in the park .png',\n",
       " 'red hearts reflected in the water.png',\n",
       " 'man carrying pond in the mountain.png',\n",
       " 'actor has been cast to portray tv legal drama in the new series about the superhero .png',\n",
       " 'a finished custom order fresh off the sewing machine !.png',\n",
       " 'image of masks on a black background , pattern .png',\n",
       " 'radio broadcaster takes you on an extensive tour as decorated for the christmas season .png',\n",
       " 'the ridge seen from the top.png',\n",
       " 'logo as an app icon .png',\n",
       " 'actors attend the black carpet secret screening of black comedy film .png',\n",
       " 'the mascot leads the cheers during a timeout .png',\n",
       " 'musician of hard rock artist performs onstage during music festival.png',\n",
       " 'a bride in her traditional red wedding costume.png',\n",
       " 'american football player warms up before a football game against sports team.png',\n",
       " 'in cities , public transport run by private operators makes for a happy ride -- if done right.png',\n",
       " 'cricketer plays a shot during a practice session ahead of the 1st test match .png',\n",
       " 'things you need to know about the protein in food.png',\n",
       " 'close up of accessories used to complete this room .png',\n",
       " 'head of a bearded man in profile to left - 18th century .png',\n",
       " 'around the world in music by person.png',\n",
       " 'picture of a white owl wallpapers high quality free.png',\n",
       " 'from left : person person , the dress on display .png',\n",
       " 'wise monkeys in a temple .png',\n",
       " 'picture of a very happy business woman with hands up -- stock photo #.png',\n",
       " 'actor as film character directed by film director.png',\n",
       " 'a photo on a clear day.png',\n",
       " 'part on our hike out.png',\n",
       " 'name the team to face a city.png',\n",
       " 'view of silhouette built structures against the sky.png',\n",
       " 'girl with flying flag behind the back.png',\n",
       " 'a large swarm of wrinkle - lipped bats leaving their cave at dusk.png',\n",
       " 'narrow - gauge railway and former tourist attraction .png',\n",
       " 'an early morning skyline view reflecting .png',\n",
       " 'horror film - angry eyes in solid sterling silver .png',\n",
       " 'a man hiking through the woods looks around the forest and then smiles at the camera , in slow motion.png',\n",
       " 'cars cover in snow on a parking lot in the residential area during snowfall.png',\n",
       " 'there will be curry in the square.png',\n",
       " 'dyed denim brings a refreshing twist to this washed - out pencil skirt .png',\n",
       " 'actor poses on the red carpet .png',\n",
       " 'river that flows through unesco world heritage site and vietnamese province .png',\n",
       " 'flag gently waving in the wind .png',\n",
       " 'october : a shot of a building inside chinese structure.png',\n",
       " 'golfer gives the thumbs up to the gallery .png',\n",
       " 'close - up of the actual flower.png',\n",
       " 'a fire tore through a-square - foot warehouse .png',\n",
       " 'summer hat and sandals lying on the beach.png',\n",
       " 'animal in the winter eating hay.png',\n",
       " 'magazine featuring person on the cover .png',\n",
       " 'a church stands at dusk.png',\n",
       " 'republic : the locomotive freight train on a railway track.png',\n",
       " 'an american crocodile rests in the water.png',\n",
       " 'dress up your favorite suit and casual shirt with a classic white pocket square.png',\n",
       " 'a colourful shack near the mouth .png',\n",
       " 'side view of a storeys house vector.png',\n",
       " 'actor and theatre actor attend opening night performance .png',\n",
       " \"let 's get physical : person takes time out of lounging in the sun to enjoy some stand - up paddling.png\",\n",
       " 'biological species holding a bowl of rice and chopsticks illustration.png',\n",
       " 'politician addresses a crowd of sailors and civilian governmental employees during a town.png',\n",
       " 'the new mayor of politician stands in the courtyard of city hall next to his official car.png',\n",
       " 'backstage beauties : person happily posed with person and pop artist after the main event.png',\n",
       " 'chic : person opted for a very different style in her plunging neckline black mini dress during event.png',\n",
       " 'country artist passed away at 81 ; he lost battle to disease ; see all the details here.png',\n",
       " 'there are several new food items.png',\n",
       " 'more like this cabinet doors , cabinets and doors.png',\n",
       " 'add a little whimsy to your fall decor with a googly - eyed pumpkin .png',\n",
       " 'beige shapes of coffee table and chairs on a brown background .png',\n",
       " 'silhouette of a woman doing yoga exercises .png',\n",
       " 'medical cartoon about finding the future .png',\n",
       " 'football player talks to players at a training session.png',\n",
       " 'mountains in background with river in the foreground.png',\n",
       " 'light up any room with the clean lines of this indoor oil - rubbed bronze chandelier .png',\n",
       " \"happy sailors at last year 's event .png\",\n",
       " 'the camera slowly pans left to right and tilts up to reveal water reservoir lake and tourist attraction .png',\n",
       " 'a covered patio we built.png',\n",
       " 'the sea near the shore with rocks and trees .png',\n",
       " 'women planting young rice plants in a paddy field .png',\n",
       " 'person has created a large steel and plant based drawing for the wall of an university .png',\n",
       " 'chinese structure is an example of ancient architectural features that had been used .png',\n",
       " 'the interior of the building.png',\n",
       " 'a single red fox smiles as it looks through branches poking up through the snow during the winter months .png',\n",
       " 'paper lanterns great for any wedding decor.png',\n",
       " 'dining table with views of the lake.png',\n",
       " 'person said the appropriate authorities would ensure that both men were barred from the classroom.png',\n",
       " 'a national tour of the musical returns .png',\n",
       " 'vector illustration of zodiac sign as a beautiful girl.png',\n",
       " 'desert pattern for children , with animals and plants typically found in the desert .png',\n",
       " 'direct ocean view from the fully furnished screened porch .png',\n",
       " 'lie in bed and look at the rolling hills and grazing sheep !.png',\n",
       " 'flaunt your softer side with this glam design in pretty pastel colors .png',\n",
       " 'the rains from person will reach a city today or tomorrow .png',\n",
       " 'black raisins in a square bowl .png',\n",
       " 'person and the queens performs .png',\n",
       " 'vector illustration of a background for holiday .png',\n",
       " 'photo of monks in a temple by author.png',\n",
       " 'tropical fish in biological genus.png',\n",
       " 'so who won tourist attraction for charity ? we all did .png',\n",
       " 'relief from within greek revival structure.png',\n",
       " 'person in action in singles on day.png',\n",
       " 'an announcement on the scoreboard notifies fans that the game has been postponed .png',\n",
       " 'cute ostrich beyond the fence.png',\n",
       " 'time lapse of the sun rising behind clouds.png',\n",
       " 'painting of a landscape view with boats and house in background.png',\n",
       " 'all of the senior dancers taking their final bow .png',\n",
       " \"festival , including the world 's largest kite in the form of the flag.png\",\n",
       " 'close - up of hands of a fly fisherman tying a fly in winter next to river .png',\n",
       " 'a large orange ship at the port close with a mound right behind the ship.png',\n",
       " 'the balloon with a portrait of an alien and text alien , flies in the dark blue sky among white stars and green dots .png',\n",
       " 'australian rules footballer of australian rules football team marks the ball during a training session .png',\n",
       " 'modest bedroom with a serene ambiance.png',\n",
       " \"for first standalone restaurant in the capital , parts and industry pays homage to the chef 's multicultural heritage and personal style .png\",\n",
       " 'locate the card on the motherboard .png',\n",
       " 'free image of logo reflected on the eyes .png',\n",
       " 'a man gives a presentation before an audience in the theater.png',\n",
       " 'custom stuffed animals made to look like your dog .png',\n",
       " 'the tattoo is wrapped in cling film to protect it for the first night .png',\n",
       " 'attractive young girl talking in the park.png',\n",
       " 'person , is known for his intricate artwork .png',\n",
       " 'you are leaving the american sector - historic sign .png',\n",
       " 'casual young man having a cup of coffee.png',\n",
       " 'this pimped up dessert will get top marks at any tea party.png',\n",
       " 'beautiful young girl taking pictures with an old vintage camera.png',\n",
       " \"pink make up table and bed in the girl 's room .png\",\n",
       " 'colorful spiral lollipop on a colored background.png',\n",
       " 'person stands in front of the home of her neighbor.png',\n",
       " 'the word crisis in the shape of an elephant to step on businesswoman , vector illustration cartoon.png',\n",
       " 'trip hop artist performing live at the live music venue.png',\n",
       " 'police and soldiers inspecting an area.png',\n",
       " 'image result for art with a social message.png',\n",
       " 'garlic , or lily at home .png',\n",
       " 'pretty feather in the forest.png',\n",
       " 'sailing into the sunset aluminum license plate.png',\n",
       " 'sunset above a city with airplane taking off.png',\n",
       " 'person photographed during an interview with mint.png',\n",
       " 'author quotes : each of us may think we know exactly.png']"
      ]
     },
     "execution_count": 179,
     "metadata": {},
     "output_type": "execute_result"
    }
   ],
   "source": [
    "image_path_list"
   ]
  },
  {
   "cell_type": "code",
   "execution_count": 191,
   "id": "af2c822e",
   "metadata": {},
   "outputs": [],
   "source": [
    "\n",
    "Y_coords = embedding.numpy()[:, 1]"
   ]
  },
  {
   "cell_type": "code",
   "execution_count": 219,
   "id": "fd59c01e",
   "metadata": {},
   "outputs": [],
   "source": [
    "def embedding_to_coords(embedding, axis):\n",
    "    \n",
    "    if axis == 'X':\n",
    "        col = 0\n",
    "    elif axis == 'Y':\n",
    "        col = 1\n",
    "    else:\n",
    "        print(\"coord must be X or Y\")\n",
    "    \n",
    "    coords = embedding.numpy()[:, col]\n",
    "\n",
    "    from_one = coords - min(coords)\n",
    "\n",
    "    return [int(coord) for coord in (from_one / max(from_one) * 1000)]"
   ]
  },
  {
   "cell_type": "code",
   "execution_count": 221,
   "id": "7b6b9cc3",
   "metadata": {},
   "outputs": [
    {
     "data": {
      "text/plain": [
       "int"
      ]
     },
     "execution_count": 221,
     "metadata": {},
     "output_type": "execute_result"
    }
   ],
   "source": [
    "X_coords = embedding_to_coords(embedding, 'X')\n",
    "type(X_coords[0])"
   ]
  },
  {
   "cell_type": "code",
   "execution_count": 222,
   "id": "891c119d",
   "metadata": {},
   "outputs": [],
   "source": [
    "import json\n",
    "\n",
    "X_coords = embedding_to_coords(embedding, 'X')\n",
    "Y_coords = embedding_to_coords(embedding, 'Y')\n",
    "\n",
    "map_json = {\n",
    "    \"X_coords\": X_coords,\n",
    "    \"Y_coords\": Y_coords,\n",
    "    \"image_paths\": image_path_list\n",
    "}\n",
    "map_json['image_paths'][0]\n",
    "with open('../raw_data/latent_space_map.json', 'w') as f:\n",
    "    json.dump(map_json, f)\n"
   ]
  },
  {
   "cell_type": "code",
   "execution_count": null,
   "id": "48bf761b",
   "metadata": {},
   "outputs": [],
   "source": []
  }
 ],
 "metadata": {
  "kernelspec": {
   "display_name": "Python 3 (ipykernel)",
   "language": "python",
   "name": "python3"
  },
  "language_info": {
   "codemirror_mode": {
    "name": "ipython",
    "version": 3
   },
   "file_extension": ".py",
   "mimetype": "text/x-python",
   "name": "python",
   "nbconvert_exporter": "python",
   "pygments_lexer": "ipython3",
   "version": "3.8.6"
  }
 },
 "nbformat": 4,
 "nbformat_minor": 5
}
